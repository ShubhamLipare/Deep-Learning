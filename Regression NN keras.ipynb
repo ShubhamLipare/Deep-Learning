{
 "cells": [
  {
   "cell_type": "markdown",
   "id": "78bb7e95",
   "metadata": {},
   "source": [
    "### Regression in keras neural network"
   ]
  },
  {
   "cell_type": "code",
   "execution_count": 1,
   "id": "e8be3b55",
   "metadata": {},
   "outputs": [],
   "source": [
    "from sklearn.datasets import make_regression"
   ]
  },
  {
   "cell_type": "code",
   "execution_count": 2,
   "id": "5599aba8",
   "metadata": {},
   "outputs": [],
   "source": [
    "X,Y= make_regression(n_samples=1000,\n",
    "                     n_features=10,\n",
    "                     n_informative=6,\n",
    "                     noise=10,\n",
    "                     random_state=45)"
   ]
  },
  {
   "cell_type": "code",
   "execution_count": 3,
   "id": "097bd851",
   "metadata": {},
   "outputs": [],
   "source": [
    "import pandas as pd\n",
    "X=pd.DataFrame(X)\n",
    "Y=pd.DataFrame(Y)"
   ]
  },
  {
   "cell_type": "code",
   "execution_count": 4,
   "id": "4e9cfbf1",
   "metadata": {},
   "outputs": [],
   "source": [
    "Y.columns=['target']"
   ]
  },
  {
   "cell_type": "code",
   "execution_count": 5,
   "id": "953f8022",
   "metadata": {},
   "outputs": [
    {
     "data": {
      "text/plain": [
       "0    0\n",
       "1    0\n",
       "2    0\n",
       "3    0\n",
       "4    0\n",
       "5    0\n",
       "6    0\n",
       "7    0\n",
       "8    0\n",
       "9    0\n",
       "dtype: int64"
      ]
     },
     "execution_count": 5,
     "metadata": {},
     "output_type": "execute_result"
    }
   ],
   "source": [
    "X.isnull().sum()"
   ]
  },
  {
   "cell_type": "code",
   "execution_count": 6,
   "id": "266850c3",
   "metadata": {},
   "outputs": [
    {
     "data": {
      "text/plain": [
       "target    0\n",
       "dtype: int64"
      ]
     },
     "execution_count": 6,
     "metadata": {},
     "output_type": "execute_result"
    }
   ],
   "source": [
    "Y.isnull().sum()"
   ]
  },
  {
   "cell_type": "code",
   "execution_count": 7,
   "id": "6d1c768a",
   "metadata": {},
   "outputs": [],
   "source": [
    "from sklearn.model_selection import train_test_split"
   ]
  },
  {
   "cell_type": "code",
   "execution_count": 18,
   "id": "f5dce889",
   "metadata": {},
   "outputs": [],
   "source": [
    "x_train,x_test,y_train,y_test=train_test_split(X,Y,test_size=0.2,random_state=10)"
   ]
  },
  {
   "cell_type": "code",
   "execution_count": 19,
   "id": "7f0ed925",
   "metadata": {},
   "outputs": [],
   "source": [
    "from sklearn.preprocessing import StandardScaler"
   ]
  },
  {
   "cell_type": "code",
   "execution_count": 20,
   "id": "596aced2",
   "metadata": {},
   "outputs": [],
   "source": [
    "scaler=StandardScaler()\n",
    "x_train=pd.DataFrame(scaler.fit_transform(x_train))\n",
    "x_test=pd.DataFrame(scaler.transform(x_test))"
   ]
  },
  {
   "cell_type": "markdown",
   "id": "9b200c9d",
   "metadata": {},
   "source": [
    "### Building neural network with keras"
   ]
  },
  {
   "cell_type": "code",
   "execution_count": 42,
   "id": "666f9ddb",
   "metadata": {},
   "outputs": [],
   "source": [
    "from keras.models import Sequential\n",
    "from keras.layers import Dense"
   ]
  },
  {
   "cell_type": "code",
   "execution_count": 43,
   "id": "a817460a",
   "metadata": {},
   "outputs": [],
   "source": [
    "nn=Sequential()\n",
    "nn.add(Dense(64,input_dim=x_train.shape[1],activation='relu'))\n",
    "nn.add(Dense(32,activation='relu'))\n",
    "nn.add(Dense(1,activation=\"linear\"))"
   ]
  },
  {
   "cell_type": "code",
   "execution_count": 44,
   "id": "6f1c402c",
   "metadata": {},
   "outputs": [
    {
     "name": "stdout",
     "output_type": "stream",
     "text": [
      "Model: \"sequential_7\"\n",
      "_________________________________________________________________\n",
      " Layer (type)                Output Shape              Param #   \n",
      "=================================================================\n",
      " dense_15 (Dense)            (None, 64)                704       \n",
      "                                                                 \n",
      " dense_16 (Dense)            (None, 32)                2080      \n",
      "                                                                 \n",
      " dense_17 (Dense)            (None, 1)                 33        \n",
      "                                                                 \n",
      "=================================================================\n",
      "Total params: 2,817\n",
      "Trainable params: 2,817\n",
      "Non-trainable params: 0\n",
      "_________________________________________________________________\n"
     ]
    }
   ],
   "source": [
    "nn.summary()"
   ]
  },
  {
   "cell_type": "code",
   "execution_count": 45,
   "id": "7c89338d",
   "metadata": {},
   "outputs": [
    {
     "name": "stdout",
     "output_type": "stream",
     "text": [
      "Epoch 1/100\n",
      "20/20 [==============================] - 1s 6ms/step - loss: 22561.7871 - val_loss: 22044.9102\n",
      "Epoch 2/100\n",
      "20/20 [==============================] - 0s 2ms/step - loss: 22386.2578 - val_loss: 21842.5117\n",
      "Epoch 3/100\n",
      "20/20 [==============================] - 0s 2ms/step - loss: 22123.4961 - val_loss: 21504.9258\n",
      "Epoch 4/100\n",
      "20/20 [==============================] - 0s 2ms/step - loss: 21687.9395 - val_loss: 20975.7383\n",
      "Epoch 5/100\n",
      "20/20 [==============================] - 0s 2ms/step - loss: 21000.3164 - val_loss: 20174.7441\n",
      "Epoch 6/100\n",
      "20/20 [==============================] - 0s 2ms/step - loss: 19964.1348 - val_loss: 19038.5684\n",
      "Epoch 7/100\n",
      "20/20 [==============================] - 0s 2ms/step - loss: 18517.5527 - val_loss: 17459.3867\n",
      "Epoch 8/100\n",
      "20/20 [==============================] - 0s 2ms/step - loss: 16638.3535 - val_loss: 15486.5732\n",
      "Epoch 9/100\n",
      "20/20 [==============================] - 0s 2ms/step - loss: 14401.1152 - val_loss: 13164.1406\n",
      "Epoch 10/100\n",
      "20/20 [==============================] - 0s 2ms/step - loss: 11803.7393 - val_loss: 10794.2041\n",
      "Epoch 11/100\n",
      "20/20 [==============================] - 0s 2ms/step - loss: 9296.7910 - val_loss: 8429.9580\n",
      "Epoch 12/100\n",
      "20/20 [==============================] - 0s 2ms/step - loss: 6982.9712 - val_loss: 6333.0625\n",
      "Epoch 13/100\n",
      "20/20 [==============================] - 0s 2ms/step - loss: 5033.5186 - val_loss: 4633.4893\n",
      "Epoch 14/100\n",
      "20/20 [==============================] - 0s 2ms/step - loss: 3535.1980 - val_loss: 3274.2507\n",
      "Epoch 15/100\n",
      "20/20 [==============================] - 0s 2ms/step - loss: 2426.8403 - val_loss: 2228.2461\n",
      "Epoch 16/100\n",
      "20/20 [==============================] - 0s 2ms/step - loss: 1624.4834 - val_loss: 1545.7334\n",
      "Epoch 17/100\n",
      "20/20 [==============================] - 0s 2ms/step - loss: 1128.2506 - val_loss: 1102.0156\n",
      "Epoch 18/100\n",
      "20/20 [==============================] - 0s 2ms/step - loss: 828.3297 - val_loss: 847.6203\n",
      "Epoch 19/100\n",
      "20/20 [==============================] - 0s 2ms/step - loss: 665.5099 - val_loss: 693.3818\n",
      "Epoch 20/100\n",
      "20/20 [==============================] - 0s 2ms/step - loss: 569.7411 - val_loss: 600.1710\n",
      "Epoch 21/100\n",
      "20/20 [==============================] - 0s 2ms/step - loss: 504.4120 - val_loss: 538.3116\n",
      "Epoch 22/100\n",
      "20/20 [==============================] - 0s 2ms/step - loss: 446.8803 - val_loss: 489.9941\n",
      "Epoch 23/100\n",
      "20/20 [==============================] - 0s 2ms/step - loss: 396.7341 - val_loss: 442.8771\n",
      "Epoch 24/100\n",
      "20/20 [==============================] - 0s 2ms/step - loss: 351.9661 - val_loss: 414.1402\n",
      "Epoch 25/100\n",
      "20/20 [==============================] - 0s 2ms/step - loss: 317.4514 - val_loss: 376.2263\n",
      "Epoch 26/100\n",
      "20/20 [==============================] - 0s 2ms/step - loss: 293.8907 - val_loss: 350.4703\n",
      "Epoch 27/100\n",
      "20/20 [==============================] - 0s 2ms/step - loss: 277.5078 - val_loss: 332.6034\n",
      "Epoch 28/100\n",
      "20/20 [==============================] - 0s 2ms/step - loss: 263.4808 - val_loss: 315.8935\n",
      "Epoch 29/100\n",
      "20/20 [==============================] - 0s 2ms/step - loss: 251.9463 - val_loss: 302.0373\n",
      "Epoch 30/100\n",
      "20/20 [==============================] - 0s 2ms/step - loss: 243.6974 - val_loss: 292.6248\n",
      "Epoch 31/100\n",
      "20/20 [==============================] - 0s 2ms/step - loss: 237.2910 - val_loss: 292.0088\n",
      "Epoch 32/100\n",
      "20/20 [==============================] - 0s 2ms/step - loss: 232.9936 - val_loss: 280.7385\n",
      "Epoch 33/100\n",
      "20/20 [==============================] - 0s 2ms/step - loss: 230.5415 - val_loss: 276.9227\n",
      "Epoch 34/100\n",
      "20/20 [==============================] - 0s 2ms/step - loss: 225.4782 - val_loss: 279.9268\n",
      "Epoch 35/100\n",
      "20/20 [==============================] - 0s 2ms/step - loss: 221.5029 - val_loss: 267.5471\n",
      "Epoch 36/100\n",
      "20/20 [==============================] - 0s 2ms/step - loss: 218.4834 - val_loss: 269.1679\n",
      "Epoch 37/100\n",
      "20/20 [==============================] - 0s 2ms/step - loss: 216.1521 - val_loss: 262.3112\n",
      "Epoch 38/100\n",
      "20/20 [==============================] - 0s 2ms/step - loss: 213.2600 - val_loss: 259.0302\n",
      "Epoch 39/100\n",
      "20/20 [==============================] - 0s 2ms/step - loss: 210.2488 - val_loss: 253.7103\n",
      "Epoch 40/100\n",
      "20/20 [==============================] - 0s 2ms/step - loss: 206.3605 - val_loss: 256.9161\n",
      "Epoch 41/100\n",
      "20/20 [==============================] - 0s 2ms/step - loss: 204.3109 - val_loss: 250.7054\n",
      "Epoch 42/100\n",
      "20/20 [==============================] - 0s 2ms/step - loss: 200.7215 - val_loss: 250.3906\n",
      "Epoch 43/100\n",
      "20/20 [==============================] - 0s 2ms/step - loss: 198.5844 - val_loss: 245.8990\n",
      "Epoch 44/100\n",
      "20/20 [==============================] - 0s 2ms/step - loss: 195.6779 - val_loss: 243.8122\n",
      "Epoch 45/100\n",
      "20/20 [==============================] - 0s 2ms/step - loss: 194.2851 - val_loss: 241.0385\n",
      "Epoch 46/100\n",
      "20/20 [==============================] - 0s 2ms/step - loss: 190.6472 - val_loss: 243.1351\n",
      "Epoch 47/100\n",
      "20/20 [==============================] - 0s 2ms/step - loss: 188.9025 - val_loss: 239.0550\n",
      "Epoch 48/100\n",
      "20/20 [==============================] - 0s 2ms/step - loss: 185.3131 - val_loss: 232.2589\n",
      "Epoch 49/100\n",
      "20/20 [==============================] - 0s 2ms/step - loss: 183.5366 - val_loss: 233.0155\n",
      "Epoch 50/100\n",
      "20/20 [==============================] - 0s 2ms/step - loss: 182.0596 - val_loss: 229.1473\n",
      "Epoch 51/100\n",
      "20/20 [==============================] - 0s 2ms/step - loss: 179.3160 - val_loss: 229.0681\n",
      "Epoch 52/100\n",
      "20/20 [==============================] - 0s 2ms/step - loss: 176.3391 - val_loss: 229.5482\n",
      "Epoch 53/100\n",
      "20/20 [==============================] - 0s 2ms/step - loss: 173.8365 - val_loss: 224.9239\n",
      "Epoch 54/100\n",
      "20/20 [==============================] - 0s 2ms/step - loss: 172.3293 - val_loss: 222.6267\n",
      "Epoch 55/100\n",
      "20/20 [==============================] - 0s 2ms/step - loss: 169.4288 - val_loss: 223.9530\n",
      "Epoch 56/100\n",
      "20/20 [==============================] - 0s 2ms/step - loss: 168.8000 - val_loss: 216.0438\n",
      "Epoch 57/100\n",
      "20/20 [==============================] - 0s 2ms/step - loss: 167.3629 - val_loss: 220.1134\n",
      "Epoch 58/100\n",
      "20/20 [==============================] - 0s 2ms/step - loss: 163.4971 - val_loss: 216.0752\n",
      "Epoch 59/100\n",
      "20/20 [==============================] - 0s 2ms/step - loss: 161.3953 - val_loss: 210.2636\n",
      "Epoch 60/100\n",
      "20/20 [==============================] - 0s 2ms/step - loss: 159.5498 - val_loss: 212.7292\n",
      "Epoch 61/100\n",
      "20/20 [==============================] - 0s 2ms/step - loss: 159.8798 - val_loss: 209.1765\n",
      "Epoch 62/100\n",
      "20/20 [==============================] - 0s 2ms/step - loss: 159.2124 - val_loss: 205.1947\n",
      "Epoch 63/100\n",
      "20/20 [==============================] - 0s 2ms/step - loss: 154.6426 - val_loss: 204.4250\n",
      "Epoch 64/100\n",
      "20/20 [==============================] - 0s 2ms/step - loss: 152.8822 - val_loss: 205.6349\n",
      "Epoch 65/100\n",
      "20/20 [==============================] - 0s 2ms/step - loss: 152.8053 - val_loss: 203.1364\n",
      "Epoch 66/100\n",
      "20/20 [==============================] - 0s 2ms/step - loss: 147.9117 - val_loss: 204.4294\n",
      "Epoch 67/100\n",
      "20/20 [==============================] - 0s 2ms/step - loss: 147.7234 - val_loss: 197.6583\n",
      "Epoch 68/100\n",
      "20/20 [==============================] - 0s 2ms/step - loss: 145.0574 - val_loss: 197.5690\n",
      "Epoch 69/100\n",
      "20/20 [==============================] - 0s 2ms/step - loss: 143.6379 - val_loss: 194.7961\n",
      "Epoch 70/100\n",
      "20/20 [==============================] - 0s 2ms/step - loss: 141.7539 - val_loss: 196.6388\n",
      "Epoch 71/100\n",
      "20/20 [==============================] - 0s 2ms/step - loss: 139.6351 - val_loss: 194.3170\n",
      "Epoch 72/100\n",
      "20/20 [==============================] - 0s 2ms/step - loss: 138.5617 - val_loss: 189.1447\n",
      "Epoch 73/100\n",
      "20/20 [==============================] - 0s 2ms/step - loss: 137.3733 - val_loss: 194.7025\n",
      "Epoch 74/100\n",
      "20/20 [==============================] - 0s 2ms/step - loss: 134.9201 - val_loss: 186.9354\n",
      "Epoch 75/100\n",
      "20/20 [==============================] - 0s 2ms/step - loss: 134.1975 - val_loss: 189.8439\n",
      "Epoch 76/100\n",
      "20/20 [==============================] - 0s 2ms/step - loss: 132.4094 - val_loss: 186.6870\n",
      "Epoch 77/100\n",
      "20/20 [==============================] - 0s 2ms/step - loss: 131.7390 - val_loss: 181.3010\n",
      "Epoch 78/100\n",
      "20/20 [==============================] - 0s 2ms/step - loss: 129.9182 - val_loss: 183.9056\n",
      "Epoch 79/100\n"
     ]
    },
    {
     "name": "stdout",
     "output_type": "stream",
     "text": [
      "20/20 [==============================] - 0s 2ms/step - loss: 128.5573 - val_loss: 184.3006\n",
      "Epoch 80/100\n",
      "20/20 [==============================] - 0s 2ms/step - loss: 127.5442 - val_loss: 182.3767\n",
      "Epoch 81/100\n",
      "20/20 [==============================] - 0s 2ms/step - loss: 125.8066 - val_loss: 178.0523\n",
      "Epoch 82/100\n",
      "20/20 [==============================] - 0s 2ms/step - loss: 123.7922 - val_loss: 177.1831\n",
      "Epoch 83/100\n",
      "20/20 [==============================] - 0s 2ms/step - loss: 123.1097 - val_loss: 174.6648\n",
      "Epoch 84/100\n",
      "20/20 [==============================] - 0s 2ms/step - loss: 121.2033 - val_loss: 175.2606\n",
      "Epoch 85/100\n",
      "20/20 [==============================] - 0s 2ms/step - loss: 120.2840 - val_loss: 173.2603\n",
      "Epoch 86/100\n",
      "20/20 [==============================] - 0s 2ms/step - loss: 119.7362 - val_loss: 175.0742\n",
      "Epoch 87/100\n",
      "20/20 [==============================] - 0s 2ms/step - loss: 117.9433 - val_loss: 170.4082\n",
      "Epoch 88/100\n",
      "20/20 [==============================] - 0s 2ms/step - loss: 117.2446 - val_loss: 172.8653\n",
      "Epoch 89/100\n",
      "20/20 [==============================] - 0s 2ms/step - loss: 115.1227 - val_loss: 169.0038\n",
      "Epoch 90/100\n",
      "20/20 [==============================] - 0s 2ms/step - loss: 113.9934 - val_loss: 170.5411\n",
      "Epoch 91/100\n",
      "20/20 [==============================] - 0s 2ms/step - loss: 114.0130 - val_loss: 167.8353\n",
      "Epoch 92/100\n",
      "20/20 [==============================] - 0s 2ms/step - loss: 111.5492 - val_loss: 165.1717\n",
      "Epoch 93/100\n",
      "20/20 [==============================] - 0s 2ms/step - loss: 111.3182 - val_loss: 163.3128\n",
      "Epoch 94/100\n",
      "20/20 [==============================] - 0s 2ms/step - loss: 109.8056 - val_loss: 165.8759\n",
      "Epoch 95/100\n",
      "20/20 [==============================] - 0s 2ms/step - loss: 109.1885 - val_loss: 162.4665\n",
      "Epoch 96/100\n",
      "20/20 [==============================] - 0s 2ms/step - loss: 108.2244 - val_loss: 162.7225\n",
      "Epoch 97/100\n",
      "20/20 [==============================] - 0s 2ms/step - loss: 106.7292 - val_loss: 162.3016\n",
      "Epoch 98/100\n",
      "20/20 [==============================] - 0s 2ms/step - loss: 105.5916 - val_loss: 159.3134\n",
      "Epoch 99/100\n",
      "20/20 [==============================] - 0s 2ms/step - loss: 105.2888 - val_loss: 162.5173\n",
      "Epoch 100/100\n",
      "20/20 [==============================] - 0s 2ms/step - loss: 104.5097 - val_loss: 159.1597\n"
     ]
    }
   ],
   "source": [
    "nn.compile(loss='mse',optimizer='adam')\n",
    "hist=nn.fit(x_train,y_train,validation_split=0.2,epochs=100)"
   ]
  },
  {
   "cell_type": "code",
   "execution_count": 46,
   "id": "e0938350",
   "metadata": {},
   "outputs": [
    {
     "data": {
      "text/plain": [
       "Text(0, 0.5, 'error')"
      ]
     },
     "execution_count": 46,
     "metadata": {},
     "output_type": "execute_result"
    },
    {
     "data": {
      "image/png": "[encoded data removed]",
      "text/plain": [
       "<Figure size 1080x720 with 1 Axes>"
      ]
     },
     "metadata": {
      "needs_background": "light"
     },
     "output_type": "display_data"
    }
   ],
   "source": [
    "import matplotlib.pyplot as plt\n",
    "plt.figure(figsize=(15,10))\n",
    "plt.plot(hist.history['loss'],c='b')\n",
    "plt.plot(hist.history['val_loss'],c='r')\n",
    "plt.xlabel(\"epoch\")\n",
    "plt.ylabel(\"error\")"
   ]
  },
  {
   "cell_type": "markdown",
   "id": "e3247db2",
   "metadata": {},
   "source": [
    "#### evaluation"
   ]
  },
  {
   "cell_type": "code",
   "execution_count": 47,
   "id": "dc53354c",
   "metadata": {},
   "outputs": [
    {
     "name": "stdout",
     "output_type": "stream",
     "text": [
      "25/25 [==============================] - 0s 752us/step\n",
      "7/7 [==============================] - 0s 1ms/step\n"
     ]
    }
   ],
   "source": [
    "tr_pred=nn.predict(x_train)\n",
    "ts_pred=nn.predict(x_test)"
   ]
  },
  {
   "cell_type": "code",
   "execution_count": 48,
   "id": "1fac2dd1",
   "metadata": {},
   "outputs": [],
   "source": [
    "from sklearn.metrics import mean_absolute_error,mean_squared_error,r2_score"
   ]
  },
  {
   "cell_type": "markdown",
   "id": "b3108c39",
   "metadata": {},
   "source": [
    "### for training data"
   ]
  },
  {
   "cell_type": "code",
   "execution_count": 49,
   "id": "6bc9ae25",
   "metadata": {},
   "outputs": [
    {
     "name": "stdout",
     "output_type": "stream",
     "text": [
      " MSE=113.39942002154592\n",
      " MAE=8.262109856154996\n",
      " RMSE=10.648916377807929\n",
      " R2=0.9949717217234728\n"
     ]
    }
   ],
   "source": [
    "tr_mas=mean_absolute_error(y_train,tr_pred)\n",
    "tr_mse=mean_squared_error(y_train,tr_pred)\n",
    "tr_r2=r2_score(y_train,tr_pred)\n",
    "print(\" MSE={0}\\n MAE={1}\\n RMSE={2}\\n R2={3}\".format(tr_mse,tr_mas,tr_mse**0.5,tr_r2))"
   ]
  },
  {
   "cell_type": "markdown",
   "id": "d0909cfe",
   "metadata": {},
   "source": [
    "### for testing"
   ]
  },
  {
   "cell_type": "code",
   "execution_count": 50,
   "id": "7d4ecaf4",
   "metadata": {},
   "outputs": [
    {
     "name": "stdout",
     "output_type": "stream",
     "text": [
      " MSE=150.42521771979582\n",
      " MAE=9.869598138663335\n",
      " RMSE=12.264795869471119\n",
      " R2=0.9934357821891353\n"
     ]
    }
   ],
   "source": [
    "ts_mas=mean_absolute_error(y_test,ts_pred)\n",
    "ts_mse=mean_squared_error(y_test,ts_pred)\n",
    "ts_r2=r2_score(y_test,ts_pred)\n",
    "print(\" MSE={0}\\n MAE={1}\\n RMSE={2}\\n R2={3}\".format(ts_mse,ts_mas,ts_mse**0.5,ts_r2))"
   ]
  },
  {
   "cell_type": "code",
   "execution_count": null,
   "id": "5346333d",
   "metadata": {},
   "outputs": [],
   "source": []
  }
 ],
 "metadata": {
  "kernelspec": {
   "display_name": "Python 3 (ipykernel)",
   "language": "python",
   "name": "python3"
  },
  "language_info": {
   "codemirror_mode": {
    "name": "ipython",
    "version": 3
   },
   "file_extension": ".py",
   "mimetype": "text/x-python",
   "name": "python",
   "nbconvert_exporter": "python",
   "pygments_lexer": "ipython3",
   "version": "3.9.7"
  }
 },
 "nbformat": 4,
 "nbformat_minor": 5
}
