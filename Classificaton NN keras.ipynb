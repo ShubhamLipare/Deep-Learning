{
 "cells": [
  {
   "cell_type": "code",
   "execution_count": 2,
   "id": "6c083c38",
   "metadata": {},
   "outputs": [],
   "source": [
    "from sklearn.datasets import make_classification"
   ]
  },
  {
   "cell_type": "code",
   "execution_count": 3,
   "id": "530ad8e3",
   "metadata": {},
   "outputs": [],
   "source": [
    "X,Y = make_classification(n_features=10,\n",
    "                          n_samples=1000,\n",
    "                          n_informative=5,\n",
    "                          n_classes=2,\n",
    "                          random_state=45)"
   ]
  },
  {
   "cell_type": "code",
   "execution_count": 5,
   "id": "678ab16a",
   "metadata": {},
   "outputs": [
    {
     "data": {
      "text/plain": [
       "array([[ 1.79236055,  0.58811013,  0.36282018, ..., -1.53169193,\n",
       "         0.62338494, -0.66264622],\n",
       "       [-1.00740319,  2.25929667,  0.0600527 , ..., -1.61865479,\n",
       "        -0.06138838,  2.47200015],\n",
       "       [-2.11567637, -1.63338265, -1.95926598, ..., -1.55197534,\n",
       "         0.68655949,  0.17009269],\n",
       "       ...,\n",
       "       [-1.05453941,  1.18755874,  0.49786192, ..., -0.48588274,\n",
       "        -1.12968798, -0.43127762],\n",
       "       [-0.39681221,  0.94411064,  3.09697734, ..., -0.75887807,\n",
       "         0.11231463, -2.56188825],\n",
       "       [-0.81540168,  1.38970056,  1.93541354, ..., -1.31011641,\n",
       "        -0.67273907, -0.92526956]])"
      ]
     },
     "execution_count": 5,
     "metadata": {},
     "output_type": "execute_result"
    }
   ],
   "source": [
    "X"
   ]
  },
  {
   "cell_type": "code",
   "execution_count": 6,
   "id": "3f7d7467",
   "metadata": {},
   "outputs": [
    {
     "data": {
      "text/plain": [
       "array([0, 0, 0, 1, 1, 1, 1, 0, 1, 1, 0, 0, 0, 0, 1, 0, 1, 0, 1, 1, 1, 0,\n",
       "       0, 1, 0, 1, 1, 1, 0, 1, 1, 1, 0, 1, 1, 0, 1, 0, 1, 0, 0, 1, 0, 0,\n",
       "       1, 0, 1, 1, 0, 0, 0, 1, 1, 1, 0, 1, 0, 0, 0, 1, 1, 1, 1, 0, 0, 1,\n",
       "       1, 1, 0, 0, 0, 1, 1, 1, 1, 1, 1, 1, 1, 0, 0, 0, 0, 0, 1, 0, 1, 0,\n",
       "       1, 0, 1, 0, 0, 0, 1, 0, 0, 0, 1, 1, 1, 0, 1, 1, 1, 0, 1, 0, 1, 1,\n",
       "       0, 1, 0, 1, 1, 0, 1, 0, 1, 1, 1, 1, 1, 0, 0, 1, 1, 0, 0, 0, 1, 1,\n",
       "       1, 0, 0, 0, 1, 0, 0, 1, 1, 0, 1, 1, 1, 1, 0, 1, 0, 0, 0, 1, 1, 1,\n",
       "       1, 1, 0, 0, 0, 1, 0, 1, 0, 0, 1, 0, 1, 0, 0, 0, 1, 0, 1, 1, 0, 0,\n",
       "       0, 1, 1, 0, 1, 0, 1, 1, 0, 0, 1, 1, 0, 1, 1, 0, 0, 1, 1, 0, 0, 0,\n",
       "       1, 1, 1, 0, 1, 1, 1, 1, 0, 1, 1, 0, 1, 1, 0, 1, 1, 0, 1, 0, 1, 0,\n",
       "       1, 1, 0, 1, 0, 0, 0, 1, 1, 1, 0, 0, 0, 1, 1, 1, 1, 0, 1, 0, 1, 0,\n",
       "       0, 0, 0, 0, 0, 0, 1, 0, 0, 0, 0, 0, 0, 0, 0, 0, 1, 0, 1, 0, 1, 1,\n",
       "       1, 1, 1, 0, 1, 1, 0, 1, 0, 0, 0, 0, 1, 0, 1, 1, 0, 1, 0, 0, 0, 0,\n",
       "       0, 1, 1, 1, 1, 0, 1, 1, 0, 0, 0, 0, 1, 1, 0, 1, 1, 0, 1, 0, 1, 1,\n",
       "       1, 0, 0, 1, 1, 1, 0, 1, 0, 1, 1, 1, 0, 1, 1, 1, 1, 0, 0, 1, 0, 0,\n",
       "       0, 0, 1, 1, 1, 0, 1, 0, 1, 1, 1, 1, 0, 0, 1, 0, 0, 1, 0, 1, 1, 0,\n",
       "       0, 0, 1, 0, 1, 1, 1, 0, 0, 1, 0, 1, 0, 1, 1, 0, 1, 0, 0, 1, 1, 1,\n",
       "       0, 0, 0, 0, 0, 0, 0, 1, 1, 0, 1, 1, 1, 0, 1, 0, 1, 0, 0, 0, 0, 0,\n",
       "       0, 0, 0, 0, 1, 0, 1, 1, 1, 1, 1, 1, 1, 0, 1, 0, 0, 1, 1, 0, 0, 0,\n",
       "       0, 1, 1, 1, 0, 1, 0, 0, 1, 0, 0, 0, 1, 0, 1, 0, 1, 0, 1, 1, 0, 0,\n",
       "       1, 1, 0, 0, 0, 1, 0, 0, 0, 1, 1, 1, 1, 1, 0, 1, 0, 1, 0, 1, 1, 0,\n",
       "       0, 1, 1, 0, 1, 1, 1, 1, 0, 1, 1, 1, 0, 0, 0, 0, 0, 1, 0, 0, 1, 0,\n",
       "       0, 0, 0, 1, 0, 1, 0, 1, 1, 0, 0, 0, 1, 1, 0, 0, 0, 1, 1, 0, 0, 0,\n",
       "       0, 1, 1, 0, 1, 1, 1, 1, 1, 1, 1, 0, 0, 1, 0, 1, 0, 0, 1, 1, 1, 0,\n",
       "       0, 0, 1, 1, 1, 0, 1, 0, 0, 0, 1, 0, 0, 1, 1, 1, 1, 0, 1, 0, 0, 1,\n",
       "       0, 1, 1, 0, 1, 0, 0, 1, 1, 0, 1, 0, 1, 0, 1, 0, 1, 0, 1, 1, 0, 1,\n",
       "       1, 0, 1, 1, 0, 0, 1, 0, 0, 0, 0, 1, 0, 0, 0, 0, 1, 1, 0, 1, 0, 0,\n",
       "       1, 0, 0, 1, 0, 1, 1, 0, 0, 1, 1, 1, 1, 1, 1, 1, 1, 0, 0, 1, 1, 0,\n",
       "       0, 1, 0, 0, 0, 0, 0, 0, 1, 1, 0, 1, 1, 1, 0, 0, 1, 1, 1, 0, 1, 0,\n",
       "       1, 1, 0, 1, 1, 0, 1, 1, 0, 0, 0, 0, 1, 1, 0, 1, 0, 1, 1, 0, 1, 0,\n",
       "       0, 0, 0, 1, 0, 0, 0, 0, 1, 0, 1, 1, 1, 0, 1, 1, 1, 0, 1, 1, 0, 1,\n",
       "       1, 1, 1, 0, 1, 1, 0, 1, 0, 0, 1, 0, 1, 0, 0, 0, 0, 0, 0, 0, 0, 1,\n",
       "       1, 1, 0, 0, 1, 0, 1, 0, 0, 1, 1, 0, 0, 0, 0, 0, 0, 1, 0, 1, 0, 1,\n",
       "       1, 1, 0, 1, 0, 0, 0, 0, 1, 1, 1, 1, 0, 1, 0, 0, 1, 0, 0, 0, 1, 0,\n",
       "       0, 0, 1, 1, 0, 1, 0, 1, 1, 0, 1, 0, 1, 1, 1, 1, 1, 0, 1, 1, 1, 0,\n",
       "       1, 1, 0, 1, 0, 1, 1, 0, 1, 1, 0, 1, 0, 1, 1, 0, 1, 1, 0, 1, 0, 0,\n",
       "       1, 1, 1, 0, 1, 0, 0, 0, 1, 0, 0, 1, 0, 0, 0, 1, 1, 1, 0, 1, 1, 1,\n",
       "       1, 0, 1, 0, 1, 1, 0, 0, 0, 0, 1, 0, 1, 1, 1, 0, 0, 1, 0, 1, 1, 1,\n",
       "       0, 0, 1, 1, 0, 1, 1, 0, 1, 0, 0, 1, 0, 0, 1, 0, 1, 0, 0, 0, 1, 0,\n",
       "       1, 1, 0, 1, 1, 0, 0, 0, 1, 1, 0, 0, 1, 1, 0, 0, 0, 0, 1, 0, 1, 1,\n",
       "       0, 0, 1, 1, 1, 1, 0, 0, 0, 0, 1, 1, 0, 0, 0, 0, 0, 0, 1, 0, 1, 0,\n",
       "       1, 1, 1, 0, 1, 0, 1, 0, 1, 0, 0, 0, 0, 1, 1, 0, 0, 0, 0, 1, 0, 1,\n",
       "       0, 0, 0, 1, 1, 1, 1, 1, 0, 0, 1, 0, 0, 0, 0, 1, 0, 0, 1, 1, 0, 1,\n",
       "       0, 0, 0, 0, 1, 0, 0, 1, 0, 1, 0, 1, 0, 1, 1, 0, 1, 0, 1, 1, 0, 0,\n",
       "       0, 1, 0, 1, 0, 1, 1, 1, 0, 0, 0, 0, 1, 1, 0, 0, 1, 0, 0, 1, 0, 0,\n",
       "       1, 0, 0, 0, 0, 1, 1, 1, 1, 1])"
      ]
     },
     "execution_count": 6,
     "metadata": {},
     "output_type": "execute_result"
    }
   ],
   "source": [
    "Y"
   ]
  },
  {
   "cell_type": "code",
   "execution_count": 7,
   "id": "6a8e9d56",
   "metadata": {},
   "outputs": [],
   "source": [
    "import pandas as pd\n",
    "import matplotlib.pyplot as plt"
   ]
  },
  {
   "cell_type": "markdown",
   "id": "a2dfca8d",
   "metadata": {},
   "source": [
    "## converting X and Y into dataframe"
   ]
  },
  {
   "cell_type": "code",
   "execution_count": 8,
   "id": "23410ed5",
   "metadata": {},
   "outputs": [],
   "source": [
    "x=pd.DataFrame(X)\n",
    "y=pd.DataFrame(Y)"
   ]
  },
  {
   "cell_type": "markdown",
   "id": "93f0a875",
   "metadata": {},
   "source": [
    "## Checking null valuess"
   ]
  },
  {
   "cell_type": "code",
   "execution_count": 10,
   "id": "9d0167cc",
   "metadata": {},
   "outputs": [
    {
     "data": {
      "text/plain": [
       "0    0\n",
       "1    0\n",
       "2    0\n",
       "3    0\n",
       "4    0\n",
       "5    0\n",
       "6    0\n",
       "7    0\n",
       "8    0\n",
       "9    0\n",
       "dtype: int64"
      ]
     },
     "execution_count": 10,
     "metadata": {},
     "output_type": "execute_result"
    }
   ],
   "source": [
    "x.isnull().sum()"
   ]
  },
  {
   "cell_type": "code",
   "execution_count": 11,
   "id": "d8bd9c20",
   "metadata": {},
   "outputs": [
    {
     "data": {
      "text/plain": [
       "0    0\n",
       "dtype: int64"
      ]
     },
     "execution_count": 11,
     "metadata": {},
     "output_type": "execute_result"
    }
   ],
   "source": [
    "y.isnull().sum()"
   ]
  },
  {
   "cell_type": "markdown",
   "id": "3ff3a493",
   "metadata": {},
   "source": [
    "## Train test split"
   ]
  },
  {
   "cell_type": "code",
   "execution_count": 12,
   "id": "f262e282",
   "metadata": {},
   "outputs": [],
   "source": [
    "from sklearn.model_selection import train_test_split"
   ]
  },
  {
   "cell_type": "code",
   "execution_count": 13,
   "id": "0bb270e3",
   "metadata": {},
   "outputs": [],
   "source": [
    "x_train,x_test,y_train,y_test=train_test_split(x,y,train_size=0.8,random_state=45)"
   ]
  },
  {
   "cell_type": "markdown",
   "id": "10f968d5",
   "metadata": {},
   "source": [
    "## building NN "
   ]
  },
  {
   "cell_type": "code",
   "execution_count": 18,
   "id": "ab07871d",
   "metadata": {},
   "outputs": [],
   "source": [
    "from keras.models import Sequential\n",
    "from keras.layers import Dense,Dropout  #Dropout is used to avoid overfitting"
   ]
  },
  {
   "cell_type": "code",
   "execution_count": 19,
   "id": "ce870131",
   "metadata": {},
   "outputs": [],
   "source": [
    "nn=Sequential()"
   ]
  },
  {
   "cell_type": "code",
   "execution_count": 21,
   "id": "fef66abd",
   "metadata": {},
   "outputs": [],
   "source": [
    "#Hidden layer 1  with inputs\n",
    "nn.add(Dense(128,activation='relu',input_dim=x_train.shape[1]))\n",
    "\n",
    "#Hidden layer 2 \n",
    "nn.add(Dense(64,activation='relu'))\n",
    "\n",
    "#Hidden layer 3\n",
    "nn.add(Dense(32,activation='relu'))\n",
    "\n",
    "# Output Layer (For Binary Classification use sigmoid for regession use linear activaion function)\n",
    "nn.add(Dense(1,activation='sigmoid'))"
   ]
  },
  {
   "cell_type": "code",
   "execution_count": 22,
   "id": "b6ad4cc8",
   "metadata": {},
   "outputs": [
    {
     "name": "stdout",
     "output_type": "stream",
     "text": [
      "Model: \"sequential\"\n",
      "_________________________________________________________________\n",
      " Layer (type)                Output Shape              Param #   \n",
      "=================================================================\n",
      " dense (Dense)               (None, 128)               1408      \n",
      "                                                                 \n",
      " dense_1 (Dense)             (None, 64)                8256      \n",
      "                                                                 \n",
      " dense_2 (Dense)             (None, 128)               8320      \n",
      "                                                                 \n",
      " dense_3 (Dense)             (None, 64)                8256      \n",
      "                                                                 \n",
      " dense_4 (Dense)             (None, 32)                2080      \n",
      "                                                                 \n",
      " dense_5 (Dense)             (None, 1)                 33        \n",
      "                                                                 \n",
      "=================================================================\n",
      "Total params: 28,353\n",
      "Trainable params: 28,353\n",
      "Non-trainable params: 0\n",
      "_________________________________________________________________\n"
     ]
    }
   ],
   "source": [
    "nn.summary()"
   ]
  },
  {
   "cell_type": "code",
   "execution_count": 23,
   "id": "ec5b2ff2",
   "metadata": {},
   "outputs": [],
   "source": [
    "#compile\n",
    "nn.compile(loss=\"binary_crossentropy\",optimizer='adam',metrics=['accuracy'])"
   ]
  },
  {
   "cell_type": "code",
   "execution_count": 24,
   "id": "757330ab",
   "metadata": {},
   "outputs": [
    {
     "name": "stdout",
     "output_type": "stream",
     "text": [
      "Epoch 1/100\n",
      "20/20 [==============================] - 2s 12ms/step - loss: 0.5760 - accuracy: 0.7078 - val_loss: 0.4258 - val_accuracy: 0.8438\n",
      "Epoch 2/100\n",
      "20/20 [==============================] - 0s 3ms/step - loss: 0.3885 - accuracy: 0.8297 - val_loss: 0.3635 - val_accuracy: 0.8625\n",
      "Epoch 3/100\n",
      "20/20 [==============================] - 0s 2ms/step - loss: 0.3807 - accuracy: 0.8297 - val_loss: 0.3670 - val_accuracy: 0.8313\n",
      "Epoch 4/100\n",
      "20/20 [==============================] - 0s 2ms/step - loss: 0.3478 - accuracy: 0.8562 - val_loss: 0.3419 - val_accuracy: 0.8562\n",
      "Epoch 5/100\n",
      "20/20 [==============================] - 0s 2ms/step - loss: 0.3265 - accuracy: 0.8484 - val_loss: 0.3073 - val_accuracy: 0.8625\n",
      "Epoch 6/100\n",
      "20/20 [==============================] - 0s 2ms/step - loss: 0.2991 - accuracy: 0.8734 - val_loss: 0.3098 - val_accuracy: 0.8687\n",
      "Epoch 7/100\n",
      "20/20 [==============================] - 0s 2ms/step - loss: 0.2771 - accuracy: 0.8891 - val_loss: 0.3068 - val_accuracy: 0.8813\n",
      "Epoch 8/100\n",
      "20/20 [==============================] - 0s 2ms/step - loss: 0.2647 - accuracy: 0.8906 - val_loss: 0.3053 - val_accuracy: 0.8813\n",
      "Epoch 9/100\n",
      "20/20 [==============================] - 0s 2ms/step - loss: 0.2439 - accuracy: 0.9000 - val_loss: 0.3339 - val_accuracy: 0.8687\n",
      "Epoch 10/100\n",
      "20/20 [==============================] - 0s 2ms/step - loss: 0.2297 - accuracy: 0.9031 - val_loss: 0.3547 - val_accuracy: 0.8250\n",
      "Epoch 11/100\n",
      "20/20 [==============================] - 0s 2ms/step - loss: 0.2145 - accuracy: 0.9234 - val_loss: 0.3252 - val_accuracy: 0.8562\n",
      "Epoch 12/100\n",
      "20/20 [==============================] - 0s 2ms/step - loss: 0.1863 - accuracy: 0.9297 - val_loss: 0.3425 - val_accuracy: 0.8750\n",
      "Epoch 13/100\n",
      "20/20 [==============================] - 0s 2ms/step - loss: 0.1891 - accuracy: 0.9250 - val_loss: 0.3877 - val_accuracy: 0.8250\n",
      "Epoch 14/100\n",
      "20/20 [==============================] - 0s 2ms/step - loss: 0.1785 - accuracy: 0.9328 - val_loss: 0.3701 - val_accuracy: 0.8562\n",
      "Epoch 15/100\n",
      "20/20 [==============================] - 0s 2ms/step - loss: 0.1571 - accuracy: 0.9422 - val_loss: 0.3747 - val_accuracy: 0.8562\n",
      "Epoch 16/100\n",
      "20/20 [==============================] - 0s 2ms/step - loss: 0.1440 - accuracy: 0.9422 - val_loss: 0.4040 - val_accuracy: 0.8438\n",
      "Epoch 17/100\n",
      "20/20 [==============================] - 0s 2ms/step - loss: 0.1142 - accuracy: 0.9609 - val_loss: 0.4501 - val_accuracy: 0.8438\n",
      "Epoch 18/100\n",
      "20/20 [==============================] - 0s 2ms/step - loss: 0.1068 - accuracy: 0.9688 - val_loss: 0.5684 - val_accuracy: 0.8062\n",
      "Epoch 19/100\n",
      "20/20 [==============================] - 0s 2ms/step - loss: 0.1497 - accuracy: 0.9469 - val_loss: 0.5086 - val_accuracy: 0.8313\n",
      "Epoch 20/100\n",
      "20/20 [==============================] - 0s 2ms/step - loss: 0.1089 - accuracy: 0.9563 - val_loss: 0.4819 - val_accuracy: 0.8375\n",
      "Epoch 21/100\n",
      "20/20 [==============================] - 0s 2ms/step - loss: 0.0860 - accuracy: 0.9688 - val_loss: 0.5271 - val_accuracy: 0.8125\n",
      "Epoch 22/100\n",
      "20/20 [==============================] - 0s 2ms/step - loss: 0.0777 - accuracy: 0.9750 - val_loss: 0.6131 - val_accuracy: 0.8188\n",
      "Epoch 23/100\n",
      "20/20 [==============================] - 0s 2ms/step - loss: 0.0460 - accuracy: 0.9859 - val_loss: 0.5987 - val_accuracy: 0.8125\n",
      "Epoch 24/100\n",
      "20/20 [==============================] - 0s 2ms/step - loss: 0.0371 - accuracy: 0.9906 - val_loss: 0.7939 - val_accuracy: 0.7750\n",
      "Epoch 25/100\n",
      "20/20 [==============================] - 0s 2ms/step - loss: 0.0338 - accuracy: 0.9906 - val_loss: 0.7270 - val_accuracy: 0.8000\n",
      "Epoch 26/100\n",
      "20/20 [==============================] - 0s 2ms/step - loss: 0.0658 - accuracy: 0.9734 - val_loss: 0.7780 - val_accuracy: 0.8125\n",
      "Epoch 27/100\n",
      "20/20 [==============================] - 0s 2ms/step - loss: 0.0429 - accuracy: 0.9891 - val_loss: 0.7953 - val_accuracy: 0.8250\n",
      "Epoch 28/100\n",
      "20/20 [==============================] - 0s 2ms/step - loss: 0.0446 - accuracy: 0.9828 - val_loss: 0.8076 - val_accuracy: 0.7875\n",
      "Epoch 29/100\n",
      "20/20 [==============================] - 0s 2ms/step - loss: 0.0314 - accuracy: 0.9922 - val_loss: 0.8226 - val_accuracy: 0.8125\n",
      "Epoch 30/100\n",
      "20/20 [==============================] - 0s 2ms/step - loss: 0.0243 - accuracy: 0.9937 - val_loss: 0.7812 - val_accuracy: 0.8188\n",
      "Epoch 31/100\n",
      "20/20 [==============================] - 0s 2ms/step - loss: 0.0122 - accuracy: 0.9984 - val_loss: 0.8894 - val_accuracy: 0.8125\n",
      "Epoch 32/100\n",
      "20/20 [==============================] - 0s 2ms/step - loss: 0.0201 - accuracy: 0.9953 - val_loss: 0.8241 - val_accuracy: 0.8125\n",
      "Epoch 33/100\n",
      "20/20 [==============================] - 0s 2ms/step - loss: 0.0913 - accuracy: 0.9719 - val_loss: 0.9138 - val_accuracy: 0.8062\n",
      "Epoch 34/100\n",
      "20/20 [==============================] - 0s 2ms/step - loss: 0.0671 - accuracy: 0.9719 - val_loss: 0.8363 - val_accuracy: 0.8125\n",
      "Epoch 35/100\n",
      "20/20 [==============================] - 0s 2ms/step - loss: 0.0388 - accuracy: 0.9875 - val_loss: 0.8296 - val_accuracy: 0.7937\n",
      "Epoch 36/100\n",
      "20/20 [==============================] - 0s 2ms/step - loss: 0.0189 - accuracy: 0.9937 - val_loss: 0.7947 - val_accuracy: 0.8125\n",
      "Epoch 37/100\n",
      "20/20 [==============================] - 0s 2ms/step - loss: 0.0115 - accuracy: 0.9984 - val_loss: 0.7900 - val_accuracy: 0.8125\n",
      "Epoch 38/100\n",
      "20/20 [==============================] - 0s 3ms/step - loss: 0.0096 - accuracy: 0.9984 - val_loss: 0.9258 - val_accuracy: 0.8125\n",
      "Epoch 39/100\n",
      "20/20 [==============================] - 0s 2ms/step - loss: 0.0044 - accuracy: 1.0000 - val_loss: 0.9103 - val_accuracy: 0.8188\n",
      "Epoch 40/100\n",
      "20/20 [==============================] - 0s 2ms/step - loss: 0.0033 - accuracy: 1.0000 - val_loss: 0.9410 - val_accuracy: 0.8250\n",
      "Epoch 41/100\n",
      "20/20 [==============================] - 0s 2ms/step - loss: 0.0021 - accuracy: 1.0000 - val_loss: 0.9750 - val_accuracy: 0.8188\n",
      "Epoch 42/100\n",
      "20/20 [==============================] - 0s 2ms/step - loss: 0.0016 - accuracy: 1.0000 - val_loss: 0.9897 - val_accuracy: 0.8250\n",
      "Epoch 43/100\n",
      "20/20 [==============================] - 0s 2ms/step - loss: 0.0014 - accuracy: 1.0000 - val_loss: 1.0088 - val_accuracy: 0.8188\n",
      "Epoch 44/100\n",
      "20/20 [==============================] - 0s 2ms/step - loss: 0.0012 - accuracy: 1.0000 - val_loss: 1.0329 - val_accuracy: 0.8125\n",
      "Epoch 45/100\n",
      "20/20 [==============================] - 0s 2ms/step - loss: 0.0011 - accuracy: 1.0000 - val_loss: 1.0422 - val_accuracy: 0.8125\n",
      "Epoch 46/100\n",
      "20/20 [==============================] - 0s 2ms/step - loss: 9.9564e-04 - accuracy: 1.0000 - val_loss: 1.0545 - val_accuracy: 0.8062\n",
      "Epoch 47/100\n",
      "20/20 [==============================] - 0s 2ms/step - loss: 8.8770e-04 - accuracy: 1.0000 - val_loss: 1.0690 - val_accuracy: 0.8125\n",
      "Epoch 48/100\n",
      "20/20 [==============================] - 0s 2ms/step - loss: 8.0538e-04 - accuracy: 1.0000 - val_loss: 1.0804 - val_accuracy: 0.8062\n",
      "Epoch 49/100\n",
      "20/20 [==============================] - 0s 2ms/step - loss: 7.4471e-04 - accuracy: 1.0000 - val_loss: 1.0992 - val_accuracy: 0.8125\n",
      "Epoch 50/100\n",
      "20/20 [==============================] - 0s 2ms/step - loss: 6.9036e-04 - accuracy: 1.0000 - val_loss: 1.1063 - val_accuracy: 0.8125\n",
      "Epoch 51/100\n",
      "20/20 [==============================] - 0s 2ms/step - loss: 6.3442e-04 - accuracy: 1.0000 - val_loss: 1.1149 - val_accuracy: 0.8125\n",
      "Epoch 52/100\n",
      "20/20 [==============================] - 0s 2ms/step - loss: 5.9529e-04 - accuracy: 1.0000 - val_loss: 1.1205 - val_accuracy: 0.8062\n",
      "Epoch 53/100\n",
      "20/20 [==============================] - 0s 2ms/step - loss: 5.5212e-04 - accuracy: 1.0000 - val_loss: 1.1375 - val_accuracy: 0.8125\n",
      "Epoch 54/100\n",
      "20/20 [==============================] - 0s 2ms/step - loss: 5.1226e-04 - accuracy: 1.0000 - val_loss: 1.1457 - val_accuracy: 0.8125\n",
      "Epoch 55/100\n",
      "20/20 [==============================] - 0s 2ms/step - loss: 4.8297e-04 - accuracy: 1.0000 - val_loss: 1.1566 - val_accuracy: 0.8125\n",
      "Epoch 56/100\n",
      "20/20 [==============================] - 0s 2ms/step - loss: 4.5587e-04 - accuracy: 1.0000 - val_loss: 1.1647 - val_accuracy: 0.8125\n",
      "Epoch 57/100\n",
      "20/20 [==============================] - 0s 2ms/step - loss: 4.2524e-04 - accuracy: 1.0000 - val_loss: 1.1740 - val_accuracy: 0.8125\n",
      "Epoch 58/100\n"
     ]
    },
    {
     "name": "stdout",
     "output_type": "stream",
     "text": [
      "20/20 [==============================] - 0s 2ms/step - loss: 4.0176e-04 - accuracy: 1.0000 - val_loss: 1.1801 - val_accuracy: 0.8125\n",
      "Epoch 59/100\n",
      "20/20 [==============================] - 0s 2ms/step - loss: 3.7832e-04 - accuracy: 1.0000 - val_loss: 1.1906 - val_accuracy: 0.8125\n",
      "Epoch 60/100\n",
      "20/20 [==============================] - 0s 2ms/step - loss: 3.6427e-04 - accuracy: 1.0000 - val_loss: 1.2000 - val_accuracy: 0.8125\n",
      "Epoch 61/100\n",
      "20/20 [==============================] - 0s 2ms/step - loss: 3.4654e-04 - accuracy: 1.0000 - val_loss: 1.2005 - val_accuracy: 0.8062\n",
      "Epoch 62/100\n",
      "20/20 [==============================] - 0s 2ms/step - loss: 3.2324e-04 - accuracy: 1.0000 - val_loss: 1.2169 - val_accuracy: 0.8125\n",
      "Epoch 63/100\n",
      "20/20 [==============================] - 0s 2ms/step - loss: 3.0867e-04 - accuracy: 1.0000 - val_loss: 1.2268 - val_accuracy: 0.8125\n",
      "Epoch 64/100\n",
      "20/20 [==============================] - 0s 2ms/step - loss: 2.9059e-04 - accuracy: 1.0000 - val_loss: 1.2267 - val_accuracy: 0.8125\n",
      "Epoch 65/100\n",
      "20/20 [==============================] - 0s 2ms/step - loss: 2.7794e-04 - accuracy: 1.0000 - val_loss: 1.2339 - val_accuracy: 0.8125\n",
      "Epoch 66/100\n",
      "20/20 [==============================] - 0s 2ms/step - loss: 2.6613e-04 - accuracy: 1.0000 - val_loss: 1.2451 - val_accuracy: 0.8125\n",
      "Epoch 67/100\n",
      "20/20 [==============================] - 0s 2ms/step - loss: 2.5497e-04 - accuracy: 1.0000 - val_loss: 1.2522 - val_accuracy: 0.8125\n",
      "Epoch 68/100\n",
      "20/20 [==============================] - 0s 2ms/step - loss: 2.4274e-04 - accuracy: 1.0000 - val_loss: 1.2560 - val_accuracy: 0.8125\n",
      "Epoch 69/100\n",
      "20/20 [==============================] - 0s 2ms/step - loss: 2.3409e-04 - accuracy: 1.0000 - val_loss: 1.2633 - val_accuracy: 0.8125\n",
      "Epoch 70/100\n",
      "20/20 [==============================] - 0s 2ms/step - loss: 2.2295e-04 - accuracy: 1.0000 - val_loss: 1.2715 - val_accuracy: 0.8125\n",
      "Epoch 71/100\n",
      "20/20 [==============================] - 0s 2ms/step - loss: 2.1437e-04 - accuracy: 1.0000 - val_loss: 1.2754 - val_accuracy: 0.8125\n",
      "Epoch 72/100\n",
      "20/20 [==============================] - 0s 2ms/step - loss: 2.0538e-04 - accuracy: 1.0000 - val_loss: 1.2843 - val_accuracy: 0.8125\n",
      "Epoch 73/100\n",
      "20/20 [==============================] - 0s 2ms/step - loss: 1.9809e-04 - accuracy: 1.0000 - val_loss: 1.2892 - val_accuracy: 0.8125\n",
      "Epoch 74/100\n",
      "20/20 [==============================] - 0s 2ms/step - loss: 1.8862e-04 - accuracy: 1.0000 - val_loss: 1.2960 - val_accuracy: 0.8125\n",
      "Epoch 75/100\n",
      "20/20 [==============================] - 0s 2ms/step - loss: 1.8243e-04 - accuracy: 1.0000 - val_loss: 1.3014 - val_accuracy: 0.8125\n",
      "Epoch 76/100\n",
      "20/20 [==============================] - 0s 2ms/step - loss: 1.7566e-04 - accuracy: 1.0000 - val_loss: 1.3087 - val_accuracy: 0.8125\n",
      "Epoch 77/100\n",
      "20/20 [==============================] - 0s 2ms/step - loss: 1.6958e-04 - accuracy: 1.0000 - val_loss: 1.3149 - val_accuracy: 0.8125\n",
      "Epoch 78/100\n",
      "20/20 [==============================] - 0s 2ms/step - loss: 1.6205e-04 - accuracy: 1.0000 - val_loss: 1.3175 - val_accuracy: 0.8125\n",
      "Epoch 79/100\n",
      "20/20 [==============================] - 0s 2ms/step - loss: 1.5629e-04 - accuracy: 1.0000 - val_loss: 1.3230 - val_accuracy: 0.8125\n",
      "Epoch 80/100\n",
      "20/20 [==============================] - 0s 2ms/step - loss: 1.5095e-04 - accuracy: 1.0000 - val_loss: 1.3303 - val_accuracy: 0.8125\n",
      "Epoch 81/100\n",
      "20/20 [==============================] - 0s 2ms/step - loss: 1.4649e-04 - accuracy: 1.0000 - val_loss: 1.3345 - val_accuracy: 0.8125\n",
      "Epoch 82/100\n",
      "20/20 [==============================] - 0s 2ms/step - loss: 1.4144e-04 - accuracy: 1.0000 - val_loss: 1.3405 - val_accuracy: 0.8125\n",
      "Epoch 83/100\n",
      "20/20 [==============================] - 0s 2ms/step - loss: 1.3640e-04 - accuracy: 1.0000 - val_loss: 1.3503 - val_accuracy: 0.8125\n",
      "Epoch 84/100\n",
      "20/20 [==============================] - 0s 2ms/step - loss: 1.3183e-04 - accuracy: 1.0000 - val_loss: 1.3514 - val_accuracy: 0.8125\n",
      "Epoch 85/100\n",
      "20/20 [==============================] - 0s 2ms/step - loss: 1.2728e-04 - accuracy: 1.0000 - val_loss: 1.3610 - val_accuracy: 0.8125\n",
      "Epoch 86/100\n",
      "20/20 [==============================] - 0s 2ms/step - loss: 1.2276e-04 - accuracy: 1.0000 - val_loss: 1.3608 - val_accuracy: 0.8125\n",
      "Epoch 87/100\n",
      "20/20 [==============================] - 0s 2ms/step - loss: 1.1910e-04 - accuracy: 1.0000 - val_loss: 1.3701 - val_accuracy: 0.8125\n",
      "Epoch 88/100\n",
      "20/20 [==============================] - 0s 2ms/step - loss: 1.1514e-04 - accuracy: 1.0000 - val_loss: 1.3722 - val_accuracy: 0.8125\n",
      "Epoch 89/100\n",
      "20/20 [==============================] - 0s 2ms/step - loss: 1.1132e-04 - accuracy: 1.0000 - val_loss: 1.3798 - val_accuracy: 0.8125\n",
      "Epoch 90/100\n",
      "20/20 [==============================] - 0s 2ms/step - loss: 1.0766e-04 - accuracy: 1.0000 - val_loss: 1.3848 - val_accuracy: 0.8125\n",
      "Epoch 91/100\n",
      "20/20 [==============================] - 0s 2ms/step - loss: 1.0419e-04 - accuracy: 1.0000 - val_loss: 1.3908 - val_accuracy: 0.8125\n",
      "Epoch 92/100\n",
      "20/20 [==============================] - 0s 2ms/step - loss: 1.0126e-04 - accuracy: 1.0000 - val_loss: 1.3963 - val_accuracy: 0.8125\n",
      "Epoch 93/100\n",
      "20/20 [==============================] - 0s 2ms/step - loss: 9.8713e-05 - accuracy: 1.0000 - val_loss: 1.3989 - val_accuracy: 0.8125\n",
      "Epoch 94/100\n",
      "20/20 [==============================] - 0s 2ms/step - loss: 9.5220e-05 - accuracy: 1.0000 - val_loss: 1.4077 - val_accuracy: 0.8125\n",
      "Epoch 95/100\n",
      "20/20 [==============================] - 0s 2ms/step - loss: 9.2415e-05 - accuracy: 1.0000 - val_loss: 1.4110 - val_accuracy: 0.8125\n",
      "Epoch 96/100\n",
      "20/20 [==============================] - 0s 2ms/step - loss: 9.0213e-05 - accuracy: 1.0000 - val_loss: 1.4126 - val_accuracy: 0.8125\n",
      "Epoch 97/100\n",
      "20/20 [==============================] - 0s 2ms/step - loss: 8.6965e-05 - accuracy: 1.0000 - val_loss: 1.4176 - val_accuracy: 0.8125\n",
      "Epoch 98/100\n",
      "20/20 [==============================] - 0s 2ms/step - loss: 8.4767e-05 - accuracy: 1.0000 - val_loss: 1.4230 - val_accuracy: 0.8125\n",
      "Epoch 99/100\n",
      "20/20 [==============================] - 0s 2ms/step - loss: 8.2090e-05 - accuracy: 1.0000 - val_loss: 1.4296 - val_accuracy: 0.8125\n",
      "Epoch 100/100\n",
      "20/20 [==============================] - 0s 2ms/step - loss: 7.9855e-05 - accuracy: 1.0000 - val_loss: 1.4335 - val_accuracy: 0.8125\n"
     ]
    }
   ],
   "source": [
    "#fitting the model\n",
    "hist=nn.fit(x_train,y_train,validation_split=0.2,epochs=100)"
   ]
  },
  {
   "cell_type": "markdown",
   "id": "ada49c2a",
   "metadata": {},
   "source": [
    "## Visualizing learning curve for the model"
   ]
  },
  {
   "cell_type": "code",
   "execution_count": 31,
   "id": "9de9a322",
   "metadata": {},
   "outputs": [
    {
     "data": {
      "text/plain": [
       "Text(0, 0.5, 'binary cross entropy')"
      ]
     },
     "execution_count": 31,
     "metadata": {},
     "output_type": "execute_result"
    },
    {
     "data": {
      "image/png": "[encoded data removed]",
      "text/plain": [
       "<Figure size 1080x720 with 1 Axes>"
      ]
     },
     "metadata": {
      "needs_background": "light"
     },
     "output_type": "display_data"
    }
   ],
   "source": [
    "plt.figure(figsize=(15,10))\n",
    "plt.plot(hist.history['loss'],c='blue',label=\"loss\")\n",
    "plt.plot(hist.history['val_loss'],c='red',label=\"validation loss\")\n",
    "plt.legend()\n",
    "plt.xlabel(\"Epochs\")\n",
    "plt.ylabel(\"binary cross entropy\")"
   ]
  },
  {
   "cell_type": "markdown",
   "id": "1ef3d360",
   "metadata": {},
   "source": [
    "## evaluation of model"
   ]
  },
  {
   "cell_type": "code",
   "execution_count": 33,
   "id": "8c9ca3d5",
   "metadata": {},
   "outputs": [
    {
     "name": "stdout",
     "output_type": "stream",
     "text": [
      "25/25 [==============================] - 0s 962us/step - loss: 0.2868 - accuracy: 0.9625\n"
     ]
    },
    {
     "data": {
      "text/plain": [
       "[0.2867584526538849, 0.9624999761581421]"
      ]
     },
     "execution_count": 33,
     "metadata": {},
     "output_type": "execute_result"
    }
   ],
   "source": [
    "nn.evaluate(x_train,y_train)"
   ]
  },
  {
   "cell_type": "code",
   "execution_count": 34,
   "id": "4e0c2fb6",
   "metadata": {},
   "outputs": [
    {
     "name": "stdout",
     "output_type": "stream",
     "text": [
      "7/7 [==============================] - 0s 1ms/step - loss: 1.2878 - accuracy: 0.8400\n"
     ]
    },
    {
     "data": {
      "text/plain": [
       "[1.2877904176712036, 0.8399999737739563]"
      ]
     },
     "execution_count": 34,
     "metadata": {},
     "output_type": "execute_result"
    }
   ],
   "source": [
    "nn.evaluate(x_test,y_test)"
   ]
  },
  {
   "cell_type": "markdown",
   "id": "15f9ca0c",
   "metadata": {},
   "source": [
    "### we can see in graph as well as evaluation that model is overfiiting,to avoid such case we use Dropout"
   ]
  },
  {
   "cell_type": "code",
   "execution_count": null,
   "id": "a9775347",
   "metadata": {},
   "outputs": [],
   "source": []
  }
 ],
 "metadata": {
  "kernelspec": {
   "display_name": "Python 3 (ipykernel)",
   "language": "python",
   "name": "python3"
  },
  "language_info": {
   "codemirror_mode": {
    "name": "ipython",
    "version": 3
   },
   "file_extension": ".py",
   "mimetype": "text/x-python",
   "name": "python",
   "nbconvert_exporter": "python",
   "pygments_lexer": "ipython3",
   "version": "3.9.7"
  }
 },
 "nbformat": 4,
 "nbformat_minor": 5
}
