{
 "cells": [
  {
   "cell_type": "code",
   "execution_count": 1,
   "id": "d03bd350",
   "metadata": {},
   "outputs": [],
   "source": [
    "from sklearn.datasets import make_classification"
   ]
  },
  {
   "cell_type": "code",
   "execution_count": 2,
   "id": "9a8a9a1e",
   "metadata": {},
   "outputs": [],
   "source": [
    "X,Y= make_classification(n_features=15,\n",
    "                         n_samples=1000,\n",
    "                         n_informative=12,\n",
    "                         n_classes=3,\n",
    "                        random_state=12)"
   ]
  },
  {
   "cell_type": "code",
   "execution_count": 3,
   "id": "d918aa29",
   "metadata": {},
   "outputs": [
    {
     "data": {
      "text/plain": [
       "array([1, 2, 1, 0, 2, 2, 1, 0, 1, 0, 2, 1, 2, 2, 0, 2, 2, 0, 2, 2, 0, 2,\n",
       "       1, 1, 2, 1, 2, 1, 2, 1, 2, 0, 1, 2, 2, 2, 1, 1, 0, 2, 2, 0, 1, 1,\n",
       "       0, 1, 0, 0, 1, 0, 2, 0, 1, 2, 0, 2, 1, 1, 2, 0, 1, 1, 1, 2, 2, 2,\n",
       "       2, 1, 1, 0, 1, 2, 1, 2, 1, 1, 1, 1, 2, 1, 2, 1, 1, 0, 2, 2, 2, 1,\n",
       "       0, 1, 1, 1, 1, 1, 1, 0, 0, 1, 2, 0, 2, 2, 1, 2, 0, 0, 2, 2, 0, 2,\n",
       "       1, 0, 1, 1, 0, 1, 1, 1, 2, 1, 0, 2, 2, 1, 0, 2, 0, 2, 1, 0, 1, 0,\n",
       "       1, 2, 1, 2, 2, 0, 2, 2, 1, 0, 1, 0, 0, 0, 2, 0, 1, 1, 1, 0, 1, 0,\n",
       "       0, 2, 1, 1, 2, 2, 1, 0, 2, 0, 0, 0, 1, 0, 1, 2, 0, 1, 2, 0, 2, 0,\n",
       "       0, 1, 0, 1, 0, 0, 0, 2, 0, 2, 2, 1, 0, 0, 0, 2, 0, 1, 1, 2, 2, 0,\n",
       "       0, 0, 2, 2, 1, 1, 1, 1, 0, 2, 2, 2, 1, 0, 2, 0, 0, 1, 0, 1, 0, 0,\n",
       "       2, 0, 1, 1, 0, 2, 1, 0, 1, 1, 0, 0, 2, 1, 2, 2, 0, 2, 2, 1, 0, 0,\n",
       "       2, 1, 0, 1, 0, 0, 1, 1, 2, 0, 2, 1, 0, 1, 1, 2, 2, 1, 0, 1, 0, 1,\n",
       "       0, 0, 1, 2, 0, 2, 2, 0, 0, 2, 1, 0, 0, 2, 1, 2, 2, 2, 2, 0, 2, 2,\n",
       "       1, 1, 0, 0, 2, 2, 1, 0, 0, 0, 2, 1, 1, 0, 0, 0, 0, 2, 0, 1, 2, 2,\n",
       "       0, 2, 2, 1, 0, 2, 0, 2, 2, 2, 1, 2, 0, 1, 1, 2, 2, 1, 1, 2, 0, 1,\n",
       "       0, 1, 1, 1, 0, 0, 2, 0, 1, 1, 2, 0, 2, 0, 0, 2, 1, 2, 2, 0, 0, 0,\n",
       "       1, 0, 1, 2, 0, 1, 1, 0, 2, 1, 2, 1, 2, 0, 1, 2, 0, 2, 0, 1, 1, 1,\n",
       "       1, 1, 2, 2, 0, 1, 2, 1, 2, 0, 0, 2, 1, 1, 2, 0, 0, 1, 2, 2, 1, 2,\n",
       "       1, 0, 2, 2, 0, 0, 0, 1, 0, 0, 0, 0, 2, 0, 2, 0, 2, 0, 2, 1, 0, 2,\n",
       "       2, 0, 2, 0, 2, 2, 0, 0, 0, 0, 2, 0, 1, 1, 1, 2, 1, 0, 2, 1, 1, 1,\n",
       "       0, 2, 2, 2, 0, 2, 0, 0, 2, 1, 0, 2, 1, 0, 2, 2, 2, 2, 1, 2, 0, 0,\n",
       "       0, 0, 1, 2, 2, 2, 1, 0, 0, 1, 2, 1, 0, 2, 0, 1, 2, 1, 1, 2, 0, 1,\n",
       "       1, 1, 2, 1, 2, 1, 0, 1, 2, 2, 0, 1, 2, 1, 1, 1, 2, 2, 0, 2, 0, 1,\n",
       "       1, 2, 0, 0, 0, 2, 2, 0, 1, 2, 0, 1, 1, 0, 0, 2, 2, 2, 1, 0, 2, 0,\n",
       "       1, 0, 1, 1, 2, 2, 0, 2, 1, 0, 0, 0, 1, 0, 2, 2, 1, 0, 1, 1, 1, 2,\n",
       "       1, 2, 1, 1, 0, 2, 1, 0, 2, 1, 1, 1, 2, 2, 0, 0, 1, 0, 1, 2, 2, 0,\n",
       "       0, 0, 0, 0, 0, 1, 1, 2, 0, 1, 1, 2, 1, 2, 1, 1, 1, 0, 0, 0, 2, 2,\n",
       "       0, 0, 0, 2, 2, 0, 1, 2, 2, 0, 0, 2, 2, 1, 1, 1, 0, 0, 2, 1, 1, 2,\n",
       "       2, 1, 0, 2, 0, 0, 0, 0, 2, 1, 0, 2, 2, 2, 1, 1, 0, 2, 0, 2, 2, 2,\n",
       "       1, 0, 2, 1, 0, 2, 0, 2, 0, 2, 1, 0, 2, 1, 0, 0, 1, 0, 2, 2, 1, 2,\n",
       "       1, 2, 1, 1, 1, 0, 2, 2, 1, 1, 1, 0, 0, 2, 2, 2, 0, 1, 2, 0, 0, 1,\n",
       "       2, 2, 0, 1, 2, 0, 2, 1, 2, 2, 0, 0, 2, 0, 1, 0, 0, 1, 0, 2, 2, 2,\n",
       "       2, 0, 1, 2, 1, 1, 2, 2, 0, 1, 1, 2, 2, 2, 2, 0, 0, 0, 1, 0, 2, 1,\n",
       "       0, 0, 2, 0, 1, 2, 0, 0, 2, 0, 0, 2, 1, 0, 1, 0, 2, 1, 2, 0, 0, 1,\n",
       "       1, 2, 1, 2, 0, 0, 1, 0, 0, 1, 2, 2, 2, 1, 0, 2, 1, 0, 0, 1, 0, 0,\n",
       "       2, 1, 0, 1, 0, 1, 0, 0, 2, 2, 1, 1, 2, 1, 0, 1, 1, 1, 2, 0, 1, 1,\n",
       "       1, 0, 1, 0, 2, 2, 2, 1, 0, 1, 1, 0, 2, 0, 0, 1, 0, 0, 1, 0, 2, 2,\n",
       "       1, 1, 2, 0, 1, 1, 2, 2, 2, 2, 1, 0, 1, 1, 0, 0, 0, 1, 2, 2, 0, 0,\n",
       "       2, 0, 2, 2, 0, 2, 0, 0, 1, 1, 1, 2, 2, 1, 0, 2, 2, 1, 0, 1, 1, 0,\n",
       "       0, 0, 2, 0, 0, 1, 2, 1, 0, 1, 1, 1, 2, 1, 0, 1, 2, 2, 2, 1, 0, 1,\n",
       "       1, 1, 0, 0, 2, 1, 1, 2, 2, 0, 2, 1, 2, 0, 2, 0, 2, 2, 1, 2, 0, 1,\n",
       "       1, 0, 2, 1, 0, 0, 2, 1, 2, 2, 1, 2, 0, 1, 1, 0, 2, 1, 1, 1, 0, 0,\n",
       "       0, 0, 2, 1, 1, 0, 2, 2, 0, 2, 0, 2, 1, 0, 0, 2, 2, 1, 2, 2, 2, 0,\n",
       "       1, 2, 1, 2, 1, 1, 0, 0, 1, 1, 2, 1, 1, 0, 2, 1, 2, 2, 0, 0, 1, 1,\n",
       "       1, 1, 2, 1, 1, 1, 1, 0, 0, 0, 0, 0, 0, 1, 1, 0, 2, 2, 0, 2, 0, 0,\n",
       "       2, 1, 2, 1, 1, 0, 2, 1, 1, 2])"
      ]
     },
     "execution_count": 3,
     "metadata": {},
     "output_type": "execute_result"
    }
   ],
   "source": [
    "Y"
   ]
  },
  {
   "cell_type": "code",
   "execution_count": 4,
   "id": "56308d77",
   "metadata": {},
   "outputs": [],
   "source": [
    "import pandas as pd\n",
    "X=pd.DataFrame(X)"
   ]
  },
  {
   "cell_type": "markdown",
   "id": "d3ec7a3a",
   "metadata": {},
   "source": [
    "### converting output variable to categorical(get dummies)"
   ]
  },
  {
   "cell_type": "code",
   "execution_count": 5,
   "id": "a196c78f",
   "metadata": {},
   "outputs": [
    {
     "data": {
      "text/plain": [
       "array([[0., 1., 0.],\n",
       "       [0., 0., 1.],\n",
       "       [0., 1., 0.],\n",
       "       ...,\n",
       "       [0., 1., 0.],\n",
       "       [0., 1., 0.],\n",
       "       [0., 0., 1.]], dtype=float32)"
      ]
     },
     "execution_count": 5,
     "metadata": {},
     "output_type": "execute_result"
    }
   ],
   "source": [
    "from keras.utils import to_categorical\n",
    "Y=to_categorical(Y)\n",
    "Y"
   ]
  },
  {
   "cell_type": "markdown",
   "id": "925833ad",
   "metadata": {},
   "source": [
    "## train test split"
   ]
  },
  {
   "cell_type": "code",
   "execution_count": 6,
   "id": "6da0210f",
   "metadata": {},
   "outputs": [],
   "source": [
    "from sklearn.model_selection import train_test_split"
   ]
  },
  {
   "cell_type": "code",
   "execution_count": 7,
   "id": "b0655b81",
   "metadata": {},
   "outputs": [],
   "source": [
    "x_train,x_test,y_train,y_test=train_test_split(X,Y,test_size=0.2,stratify=Y)  \n",
    "#statify set equal proportion of Y classes in both training and testing\n"
   ]
  },
  {
   "cell_type": "code",
   "execution_count": 8,
   "id": "9ce82ffe",
   "metadata": {},
   "outputs": [
    {
     "data": {
      "text/plain": [
       "(800, 15)"
      ]
     },
     "execution_count": 8,
     "metadata": {},
     "output_type": "execute_result"
    }
   ],
   "source": [
    "x_train.shape"
   ]
  },
  {
   "cell_type": "code",
   "execution_count": 9,
   "id": "53d647fb",
   "metadata": {},
   "outputs": [
    {
     "data": {
      "text/plain": [
       "(200, 15)"
      ]
     },
     "execution_count": 9,
     "metadata": {},
     "output_type": "execute_result"
    }
   ],
   "source": [
    "x_test.shape"
   ]
  },
  {
   "cell_type": "markdown",
   "id": "1ecfc1eb",
   "metadata": {},
   "source": [
    "###  Scaling "
   ]
  },
  {
   "cell_type": "code",
   "execution_count": 10,
   "id": "63a6bf89",
   "metadata": {},
   "outputs": [],
   "source": [
    "from sklearn.preprocessing import StandardScaler"
   ]
  },
  {
   "cell_type": "code",
   "execution_count": 11,
   "id": "83e626d6",
   "metadata": {},
   "outputs": [],
   "source": [
    "scaler=StandardScaler()\n",
    "x_train = pd.DataFrame(scaler.fit_transform(x_train))\n",
    "x_test = pd.DataFrame(scaler.transform(x_test))"
   ]
  },
  {
   "cell_type": "markdown",
   "id": "54d0cef3",
   "metadata": {},
   "source": [
    "### building NN model"
   ]
  },
  {
   "cell_type": "code",
   "execution_count": 12,
   "id": "2c8154cd",
   "metadata": {},
   "outputs": [],
   "source": [
    "from keras.models import Sequential\n",
    "from keras.layers import Dense,Dropout\n",
    "from keras.callbacks import EarlyStopping  #it is used to stop overfitting"
   ]
  },
  {
   "cell_type": "code",
   "execution_count": 13,
   "id": "9ec94945",
   "metadata": {},
   "outputs": [],
   "source": [
    "nn=Sequential()\n",
    "#1st layer \n",
    "nn.add(Dense(64,activation='relu',input_dim=x_train.shape[1]))\n",
    "nn.add(Dropout(0.2))\n",
    "#2nd hidden layer\n",
    "nn.add(Dense(32,activation='relu'))\n",
    "nn.add(Dropout(0.2))\n",
    "#output layer\n",
    "nn.add(Dense(3,activation='softmax'))"
   ]
  },
  {
   "cell_type": "code",
   "execution_count": 14,
   "id": "be38c5a0",
   "metadata": {},
   "outputs": [],
   "source": [
    "earlystopping=EarlyStopping(monitor='val_loss', patience=15)"
   ]
  },
  {
   "cell_type": "code",
   "execution_count": 15,
   "id": "ec4b0fb5",
   "metadata": {},
   "outputs": [],
   "source": [
    "nn.compile(loss='categorical_crossentropy',optimizer='adam',metrics=['accuracy'])"
   ]
  },
  {
   "cell_type": "markdown",
   "id": "8216ffc7",
   "metadata": {},
   "source": [
    "## Training the model"
   ]
  },
  {
   "cell_type": "code",
   "execution_count": 16,
   "id": "216e1511",
   "metadata": {},
   "outputs": [
    {
     "name": "stdout",
     "output_type": "stream",
     "text": [
      "Epoch 1/200\n",
      "20/20 [==============================] - 1s 9ms/step - loss: 1.1912 - accuracy: 0.3438 - val_loss: 1.0226 - val_accuracy: 0.4375\n",
      "Epoch 2/200\n",
      "20/20 [==============================] - 0s 2ms/step - loss: 1.0186 - accuracy: 0.4781 - val_loss: 0.9491 - val_accuracy: 0.5813\n",
      "Epoch 3/200\n",
      "20/20 [==============================] - 0s 2ms/step - loss: 0.9085 - accuracy: 0.6141 - val_loss: 0.8761 - val_accuracy: 0.6313\n",
      "Epoch 4/200\n",
      "20/20 [==============================] - 0s 2ms/step - loss: 0.8182 - accuracy: 0.6484 - val_loss: 0.8015 - val_accuracy: 0.7125\n",
      "Epoch 5/200\n",
      "20/20 [==============================] - 0s 2ms/step - loss: 0.7529 - accuracy: 0.7203 - val_loss: 0.7425 - val_accuracy: 0.7375\n",
      "Epoch 6/200\n",
      "20/20 [==============================] - 0s 2ms/step - loss: 0.7293 - accuracy: 0.7016 - val_loss: 0.6982 - val_accuracy: 0.7375\n",
      "Epoch 7/200\n",
      "20/20 [==============================] - 0s 2ms/step - loss: 0.6662 - accuracy: 0.7391 - val_loss: 0.6573 - val_accuracy: 0.7625\n",
      "Epoch 8/200\n",
      "20/20 [==============================] - 0s 2ms/step - loss: 0.6204 - accuracy: 0.7516 - val_loss: 0.6285 - val_accuracy: 0.7625\n",
      "Epoch 9/200\n",
      "20/20 [==============================] - 0s 2ms/step - loss: 0.5991 - accuracy: 0.7688 - val_loss: 0.5848 - val_accuracy: 0.7750\n",
      "Epoch 10/200\n",
      "20/20 [==============================] - 0s 2ms/step - loss: 0.5734 - accuracy: 0.7734 - val_loss: 0.5692 - val_accuracy: 0.7875\n",
      "Epoch 11/200\n",
      "20/20 [==============================] - 0s 2ms/step - loss: 0.5406 - accuracy: 0.7859 - val_loss: 0.5447 - val_accuracy: 0.8062\n",
      "Epoch 12/200\n",
      "20/20 [==============================] - 0s 2ms/step - loss: 0.5199 - accuracy: 0.8109 - val_loss: 0.5272 - val_accuracy: 0.8125\n",
      "Epoch 13/200\n",
      "20/20 [==============================] - 0s 2ms/step - loss: 0.5076 - accuracy: 0.8078 - val_loss: 0.5081 - val_accuracy: 0.8188\n",
      "Epoch 14/200\n",
      "20/20 [==============================] - 0s 2ms/step - loss: 0.4488 - accuracy: 0.8344 - val_loss: 0.4962 - val_accuracy: 0.8250\n",
      "Epoch 15/200\n",
      "20/20 [==============================] - 0s 2ms/step - loss: 0.4690 - accuracy: 0.8156 - val_loss: 0.4831 - val_accuracy: 0.8250\n",
      "Epoch 16/200\n",
      "20/20 [==============================] - 0s 2ms/step - loss: 0.4354 - accuracy: 0.8313 - val_loss: 0.4641 - val_accuracy: 0.8375\n",
      "Epoch 17/200\n",
      "20/20 [==============================] - 0s 2ms/step - loss: 0.4392 - accuracy: 0.8281 - val_loss: 0.4594 - val_accuracy: 0.8313\n",
      "Epoch 18/200\n",
      "20/20 [==============================] - 0s 2ms/step - loss: 0.4226 - accuracy: 0.8422 - val_loss: 0.4453 - val_accuracy: 0.8313\n",
      "Epoch 19/200\n",
      "20/20 [==============================] - 0s 2ms/step - loss: 0.4053 - accuracy: 0.8625 - val_loss: 0.4372 - val_accuracy: 0.8313\n",
      "Epoch 20/200\n",
      "20/20 [==============================] - 0s 2ms/step - loss: 0.3792 - accuracy: 0.8516 - val_loss: 0.4295 - val_accuracy: 0.8375\n",
      "Epoch 21/200\n",
      "20/20 [==============================] - 0s 2ms/step - loss: 0.3790 - accuracy: 0.8438 - val_loss: 0.4336 - val_accuracy: 0.8500\n",
      "Epoch 22/200\n",
      "20/20 [==============================] - 0s 2ms/step - loss: 0.3700 - accuracy: 0.8594 - val_loss: 0.4245 - val_accuracy: 0.8375\n",
      "Epoch 23/200\n",
      "20/20 [==============================] - 0s 2ms/step - loss: 0.3498 - accuracy: 0.8516 - val_loss: 0.4177 - val_accuracy: 0.8375\n",
      "Epoch 24/200\n",
      "20/20 [==============================] - 0s 2ms/step - loss: 0.3588 - accuracy: 0.8562 - val_loss: 0.4017 - val_accuracy: 0.8500\n",
      "Epoch 25/200\n",
      "20/20 [==============================] - 0s 2ms/step - loss: 0.3547 - accuracy: 0.8719 - val_loss: 0.4076 - val_accuracy: 0.8562\n",
      "Epoch 26/200\n",
      "20/20 [==============================] - 0s 2ms/step - loss: 0.3567 - accuracy: 0.8656 - val_loss: 0.4004 - val_accuracy: 0.8438\n",
      "Epoch 27/200\n",
      "20/20 [==============================] - 0s 2ms/step - loss: 0.3396 - accuracy: 0.8641 - val_loss: 0.3875 - val_accuracy: 0.8562\n",
      "Epoch 28/200\n",
      "20/20 [==============================] - 0s 2ms/step - loss: 0.3247 - accuracy: 0.8781 - val_loss: 0.3848 - val_accuracy: 0.8625\n",
      "Epoch 29/200\n",
      "20/20 [==============================] - 0s 2ms/step - loss: 0.3319 - accuracy: 0.8766 - val_loss: 0.3841 - val_accuracy: 0.8625\n",
      "Epoch 30/200\n",
      "20/20 [==============================] - 0s 2ms/step - loss: 0.3208 - accuracy: 0.8859 - val_loss: 0.3844 - val_accuracy: 0.8750\n",
      "Epoch 31/200\n",
      "20/20 [==============================] - 0s 2ms/step - loss: 0.3007 - accuracy: 0.8875 - val_loss: 0.3764 - val_accuracy: 0.8687\n",
      "Epoch 32/200\n",
      "20/20 [==============================] - 0s 2ms/step - loss: 0.2879 - accuracy: 0.9000 - val_loss: 0.3664 - val_accuracy: 0.8687\n",
      "Epoch 33/200\n",
      "20/20 [==============================] - 0s 2ms/step - loss: 0.2855 - accuracy: 0.8906 - val_loss: 0.3824 - val_accuracy: 0.8625\n",
      "Epoch 34/200\n",
      "20/20 [==============================] - 0s 2ms/step - loss: 0.2900 - accuracy: 0.8875 - val_loss: 0.3614 - val_accuracy: 0.8750\n",
      "Epoch 35/200\n",
      "20/20 [==============================] - 0s 2ms/step - loss: 0.2922 - accuracy: 0.8969 - val_loss: 0.3718 - val_accuracy: 0.8813\n",
      "Epoch 36/200\n",
      "20/20 [==============================] - 0s 2ms/step - loss: 0.2903 - accuracy: 0.8984 - val_loss: 0.3637 - val_accuracy: 0.8813\n",
      "Epoch 37/200\n",
      "20/20 [==============================] - 0s 2ms/step - loss: 0.3143 - accuracy: 0.8797 - val_loss: 0.3556 - val_accuracy: 0.8813\n",
      "Epoch 38/200\n",
      "20/20 [==============================] - 0s 2ms/step - loss: 0.2547 - accuracy: 0.8984 - val_loss: 0.3519 - val_accuracy: 0.8750\n",
      "Epoch 39/200\n",
      "20/20 [==============================] - 0s 2ms/step - loss: 0.2397 - accuracy: 0.9141 - val_loss: 0.3636 - val_accuracy: 0.8750\n",
      "Epoch 40/200\n",
      "20/20 [==============================] - 0s 2ms/step - loss: 0.2686 - accuracy: 0.8984 - val_loss: 0.3633 - val_accuracy: 0.8813\n",
      "Epoch 41/200\n",
      "20/20 [==============================] - 0s 2ms/step - loss: 0.2515 - accuracy: 0.9125 - val_loss: 0.3587 - val_accuracy: 0.8750\n",
      "Epoch 42/200\n",
      "20/20 [==============================] - 0s 2ms/step - loss: 0.2313 - accuracy: 0.9187 - val_loss: 0.3492 - val_accuracy: 0.8750\n",
      "Epoch 43/200\n",
      "20/20 [==============================] - 0s 2ms/step - loss: 0.2105 - accuracy: 0.9375 - val_loss: 0.3421 - val_accuracy: 0.8813\n",
      "Epoch 44/200\n",
      "20/20 [==============================] - 0s 2ms/step - loss: 0.2381 - accuracy: 0.9141 - val_loss: 0.3347 - val_accuracy: 0.8875\n",
      "Epoch 45/200\n",
      "20/20 [==============================] - 0s 2ms/step - loss: 0.2271 - accuracy: 0.9125 - val_loss: 0.3431 - val_accuracy: 0.8875\n",
      "Epoch 46/200\n",
      "20/20 [==============================] - 0s 2ms/step - loss: 0.2420 - accuracy: 0.9281 - val_loss: 0.3401 - val_accuracy: 0.8813\n",
      "Epoch 47/200\n",
      "20/20 [==============================] - 0s 2ms/step - loss: 0.2117 - accuracy: 0.9312 - val_loss: 0.3483 - val_accuracy: 0.8875\n",
      "Epoch 48/200\n",
      "20/20 [==============================] - 0s 2ms/step - loss: 0.2072 - accuracy: 0.9234 - val_loss: 0.3548 - val_accuracy: 0.8875\n",
      "Epoch 49/200\n",
      "20/20 [==============================] - 0s 2ms/step - loss: 0.2080 - accuracy: 0.9328 - val_loss: 0.3475 - val_accuracy: 0.8875\n",
      "Epoch 50/200\n",
      "20/20 [==============================] - 0s 2ms/step - loss: 0.2088 - accuracy: 0.9187 - val_loss: 0.3433 - val_accuracy: 0.8813\n",
      "Epoch 51/200\n",
      "20/20 [==============================] - 0s 2ms/step - loss: 0.2073 - accuracy: 0.9312 - val_loss: 0.3473 - val_accuracy: 0.8938\n",
      "Epoch 52/200\n",
      "20/20 [==============================] - 0s 2ms/step - loss: 0.2159 - accuracy: 0.9125 - val_loss: 0.3384 - val_accuracy: 0.9000\n",
      "Epoch 53/200\n",
      "20/20 [==============================] - 0s 2ms/step - loss: 0.2120 - accuracy: 0.9234 - val_loss: 0.3492 - val_accuracy: 0.8938\n",
      "Epoch 54/200\n",
      "20/20 [==============================] - 0s 2ms/step - loss: 0.1854 - accuracy: 0.9266 - val_loss: 0.3323 - val_accuracy: 0.8875\n",
      "Epoch 55/200\n",
      "20/20 [==============================] - 0s 2ms/step - loss: 0.2006 - accuracy: 0.9234 - val_loss: 0.3362 - val_accuracy: 0.8875\n",
      "Epoch 56/200\n",
      "20/20 [==============================] - 0s 2ms/step - loss: 0.1931 - accuracy: 0.9359 - val_loss: 0.3365 - val_accuracy: 0.9000\n",
      "Epoch 57/200\n",
      "20/20 [==============================] - 0s 2ms/step - loss: 0.1774 - accuracy: 0.9391 - val_loss: 0.3517 - val_accuracy: 0.8938\n",
      "Epoch 58/200\n",
      "20/20 [==============================] - 0s 2ms/step - loss: 0.1837 - accuracy: 0.9375 - val_loss: 0.3374 - val_accuracy: 0.8938\n"
     ]
    },
    {
     "name": "stdout",
     "output_type": "stream",
     "text": [
      "Epoch 59/200\n",
      "20/20 [==============================] - 0s 2ms/step - loss: 0.1842 - accuracy: 0.9328 - val_loss: 0.3408 - val_accuracy: 0.9000\n",
      "Epoch 60/200\n",
      "20/20 [==============================] - 0s 2ms/step - loss: 0.1998 - accuracy: 0.9250 - val_loss: 0.3289 - val_accuracy: 0.9000\n",
      "Epoch 61/200\n",
      "20/20 [==============================] - 0s 2ms/step - loss: 0.1628 - accuracy: 0.9516 - val_loss: 0.3273 - val_accuracy: 0.9000\n",
      "Epoch 62/200\n",
      "20/20 [==============================] - 0s 2ms/step - loss: 0.1833 - accuracy: 0.9344 - val_loss: 0.3332 - val_accuracy: 0.9062\n",
      "Epoch 63/200\n",
      "20/20 [==============================] - 0s 2ms/step - loss: 0.1851 - accuracy: 0.9375 - val_loss: 0.3325 - val_accuracy: 0.8938\n",
      "Epoch 64/200\n",
      "20/20 [==============================] - 0s 2ms/step - loss: 0.1771 - accuracy: 0.9438 - val_loss: 0.3448 - val_accuracy: 0.8938\n",
      "Epoch 65/200\n",
      "20/20 [==============================] - 0s 2ms/step - loss: 0.1850 - accuracy: 0.9312 - val_loss: 0.3391 - val_accuracy: 0.9125\n",
      "Epoch 66/200\n",
      "20/20 [==============================] - 0s 2ms/step - loss: 0.1704 - accuracy: 0.9391 - val_loss: 0.3440 - val_accuracy: 0.8938\n",
      "Epoch 67/200\n",
      "20/20 [==============================] - 0s 2ms/step - loss: 0.1749 - accuracy: 0.9328 - val_loss: 0.3303 - val_accuracy: 0.9000\n",
      "Epoch 68/200\n",
      "20/20 [==============================] - 0s 2ms/step - loss: 0.1610 - accuracy: 0.9453 - val_loss: 0.3430 - val_accuracy: 0.9062\n",
      "Epoch 69/200\n",
      "20/20 [==============================] - 0s 2ms/step - loss: 0.1510 - accuracy: 0.9469 - val_loss: 0.3372 - val_accuracy: 0.9125\n",
      "Epoch 70/200\n",
      "20/20 [==============================] - 0s 2ms/step - loss: 0.1515 - accuracy: 0.9500 - val_loss: 0.3317 - val_accuracy: 0.8938\n",
      "Epoch 71/200\n",
      "20/20 [==============================] - 0s 2ms/step - loss: 0.1498 - accuracy: 0.9516 - val_loss: 0.3402 - val_accuracy: 0.8938\n",
      "Epoch 72/200\n",
      "20/20 [==============================] - 0s 2ms/step - loss: 0.1572 - accuracy: 0.9469 - val_loss: 0.3327 - val_accuracy: 0.9000\n",
      "Epoch 73/200\n",
      "20/20 [==============================] - 0s 2ms/step - loss: 0.1403 - accuracy: 0.9563 - val_loss: 0.3422 - val_accuracy: 0.9000\n",
      "Epoch 74/200\n",
      "20/20 [==============================] - 0s 2ms/step - loss: 0.1462 - accuracy: 0.9453 - val_loss: 0.3560 - val_accuracy: 0.9125\n",
      "Epoch 75/200\n",
      "20/20 [==============================] - 0s 2ms/step - loss: 0.1446 - accuracy: 0.9500 - val_loss: 0.3564 - val_accuracy: 0.9062\n",
      "Epoch 76/200\n",
      "20/20 [==============================] - 0s 2ms/step - loss: 0.1670 - accuracy: 0.9438 - val_loss: 0.3505 - val_accuracy: 0.9125\n"
     ]
    }
   ],
   "source": [
    "hist = nn.fit(x_train,y_train,validation_split=0.2,epochs=200,callbacks=[earlystopping])"
   ]
  },
  {
   "cell_type": "markdown",
   "id": "bbc2fd3d",
   "metadata": {},
   "source": [
    "## Plotting the learning curve"
   ]
  },
  {
   "cell_type": "code",
   "execution_count": 17,
   "id": "13ddfe57",
   "metadata": {},
   "outputs": [
    {
     "data": {
      "image/png": "[encoded data removed]",
      "text/plain": [
       "<Figure size 1152x576 with 1 Axes>"
      ]
     },
     "metadata": {
      "needs_background": "light"
     },
     "output_type": "display_data"
    }
   ],
   "source": [
    "import matplotlib.pyplot as plt\n",
    "plt.figure(figsize=(16,8))\n",
    "plt.plot(hist.history['loss'],label='training loss')\n",
    "plt.plot(hist.history['val_loss'],label='validation loss')\n",
    "plt.title('Learning Curve')\n",
    "plt.xlabel('Epochs')\n",
    "plt.legend()\n",
    "plt.ylabel('Cateogorical Cross Entropy')\n",
    "plt.show()"
   ]
  },
  {
   "cell_type": "markdown",
   "id": "df0da9f1",
   "metadata": {},
   "source": [
    "## Plotting accuracy of model with epochs"
   ]
  },
  {
   "cell_type": "code",
   "execution_count": 18,
   "id": "e3675212",
   "metadata": {},
   "outputs": [
    {
     "data": {
      "image/png": "[encoded data removed]",
      "text/plain": [
       "<Figure size 1152x576 with 1 Axes>"
      ]
     },
     "metadata": {
      "needs_background": "light"
     },
     "output_type": "display_data"
    }
   ],
   "source": [
    "import matplotlib.pyplot as plt\n",
    "plt.figure(figsize=(16,8))\n",
    "plt.plot(hist.history['accuracy'],label='training loss')\n",
    "plt.plot(hist.history['val_accuracy'],label='validation loss')\n",
    "plt.title('Accuracy vs Epochs')\n",
    "plt.xlabel('Epochs')\n",
    "plt.ylabel('Accuracy')\n",
    "plt.show()"
   ]
  },
  {
   "cell_type": "markdown",
   "id": "769120d1",
   "metadata": {},
   "source": [
    "## model evaluation"
   ]
  },
  {
   "cell_type": "code",
   "execution_count": 19,
   "id": "c60457df",
   "metadata": {},
   "outputs": [
    {
     "name": "stdout",
     "output_type": "stream",
     "text": [
      "25/25 [==============================] - 0s 837us/step - loss: 0.1199 - accuracy: 0.9750\n"
     ]
    },
    {
     "data": {
      "text/plain": [
       "[0.11986316740512848, 0.9750000238418579]"
      ]
     },
     "execution_count": 19,
     "metadata": {},
     "output_type": "execute_result"
    }
   ],
   "source": [
    "# Evaluate model on train data\n",
    "nn.evaluate(x_train,y_train)"
   ]
  },
  {
   "cell_type": "code",
   "execution_count": 20,
   "id": "0bebbb22",
   "metadata": {},
   "outputs": [
    {
     "name": "stdout",
     "output_type": "stream",
     "text": [
      "7/7 [==============================] - 0s 1ms/step - loss: 0.3514 - accuracy: 0.8900\n"
     ]
    },
    {
     "data": {
      "text/plain": [
       "[0.35142430663108826, 0.8899999856948853]"
      ]
     },
     "execution_count": 20,
     "metadata": {},
     "output_type": "execute_result"
    }
   ],
   "source": [
    "# Evaluate model on testing data\n",
    "nn.evaluate(x_test, y_test)"
   ]
  },
  {
   "cell_type": "markdown",
   "id": "c9557dc5",
   "metadata": {},
   "source": [
    "## Showing model predictions on test data"
   ]
  },
  {
   "cell_type": "code",
   "execution_count": 21,
   "id": "fba9ca86",
   "metadata": {},
   "outputs": [
    {
     "name": "stdout",
     "output_type": "stream",
     "text": [
      "7/7 [==============================] - 0s 1ms/step\n"
     ]
    }
   ],
   "source": [
    "ypred_test = nn.predict(x_test)"
   ]
  },
  {
   "cell_type": "code",
   "execution_count": 22,
   "id": "0947f91b",
   "metadata": {},
   "outputs": [
    {
     "data": {
      "text/plain": [
       "array([[5.04548616e-08, 9.98995602e-01, 1.00434304e-03],\n",
       "       [9.84080017e-01, 4.59406525e-03, 1.13259461e-02],\n",
       "       [1.20612123e-04, 9.98862267e-01, 1.01713266e-03],\n",
       "       [7.51374662e-02, 5.01811862e-01, 4.23050731e-01],\n",
       "       [1.40028733e-05, 1.53390632e-04, 9.99832630e-01],\n",
       "       [7.06082396e-03, 9.92938876e-01, 2.46795736e-07],\n",
       "       [9.91949320e-01, 1.31466391e-03, 6.73602661e-03],\n",
       "       [1.30212102e-05, 9.99675751e-01, 3.11253301e-04],\n",
       "       [4.82721895e-01, 2.16154590e-01, 3.01123440e-01],\n",
       "       [8.08621757e-03, 6.91682240e-03, 9.84996915e-01],\n",
       "       [4.06608963e-03, 6.67910697e-03, 9.89254832e-01],\n",
       "       [9.97331262e-01, 1.03229680e-03, 1.63639837e-03],\n",
       "       [1.72705983e-03, 9.98165309e-01, 1.07644511e-04],\n",
       "       [8.72873247e-01, 1.22480914e-01, 4.64584539e-03],\n",
       "       [9.84553576e-01, 5.03183110e-03, 1.04146246e-02],\n",
       "       [1.31679466e-03, 1.40025038e-02, 9.84680712e-01],\n",
       "       [9.63591099e-01, 1.62738710e-04, 3.62461358e-02],\n",
       "       [9.75951076e-01, 1.61894616e-02, 7.85938650e-03],\n",
       "       [8.59621882e-01, 1.40378147e-01, 3.87037113e-09],\n",
       "       [1.28468200e-05, 9.90315616e-01, 9.67155397e-03],\n",
       "       [4.42117691e-01, 5.56903660e-01, 9.78640979e-04],\n",
       "       [2.07748520e-03, 9.97760892e-01, 1.61692064e-04],\n",
       "       [4.13223743e-01, 5.86773992e-01, 2.26037446e-06],\n",
       "       [1.43631098e-06, 9.99988079e-01, 1.05441695e-05],\n",
       "       [2.58596726e-02, 9.71731842e-01, 2.40850891e-03],\n",
       "       [9.14649308e-01, 8.52142274e-02, 1.36525327e-04],\n",
       "       [1.30147659e-04, 9.90968011e-03, 9.89960194e-01],\n",
       "       [9.21178222e-01, 7.88119733e-02, 9.80400546e-06],\n",
       "       [9.89120841e-01, 1.08010387e-02, 7.81771159e-05],\n",
       "       [2.33511969e-01, 1.56842580e-04, 7.66331255e-01],\n",
       "       [9.98552501e-01, 1.44752197e-03, 4.14183576e-09],\n",
       "       [1.65684626e-03, 9.98330414e-01, 1.26791347e-05],\n",
       "       [2.31053145e-03, 9.88149405e-01, 9.53997858e-03],\n",
       "       [9.48756002e-03, 6.13138042e-02, 9.29198623e-01],\n",
       "       [3.63004627e-03, 2.57587456e-03, 9.93794084e-01],\n",
       "       [5.94479861e-05, 8.98113966e-01, 1.01826631e-01],\n",
       "       [1.87870175e-01, 2.17176462e-03, 8.09958100e-01],\n",
       "       [9.62687552e-01, 3.72258127e-02, 8.66052360e-05],\n",
       "       [8.93940806e-01, 9.10814628e-02, 1.49777737e-02],\n",
       "       [7.38863600e-04, 9.99208272e-01, 5.28567252e-05],\n",
       "       [1.07998205e-02, 9.89152193e-01, 4.80413291e-05],\n",
       "       [9.84627306e-01, 1.48346825e-02, 5.38102933e-04],\n",
       "       [1.43197074e-03, 5.81223145e-02, 9.40445662e-01],\n",
       "       [1.03819813e-03, 1.26163149e-03, 9.97700155e-01],\n",
       "       [1.33104425e-08, 9.99999046e-01, 9.49841194e-07],\n",
       "       [1.41876101e-01, 2.20283750e-03, 8.55921090e-01],\n",
       "       [1.47001883e-02, 4.44286456e-03, 9.80856895e-01],\n",
       "       [9.99520302e-01, 4.79549199e-04, 9.03618798e-08],\n",
       "       [4.55047626e-07, 9.77307484e-02, 9.02268827e-01],\n",
       "       [3.46209342e-03, 4.46910352e-01, 5.49627602e-01],\n",
       "       [9.80892897e-01, 1.91069487e-02, 7.44156097e-08],\n",
       "       [9.96627986e-01, 8.99522216e-04, 2.47252802e-03],\n",
       "       [8.90029192e-01, 7.72071853e-02, 3.27636302e-02],\n",
       "       [7.72204697e-01, 1.29812852e-01, 9.79824588e-02],\n",
       "       [6.36053830e-03, 7.95492344e-03, 9.85684514e-01],\n",
       "       [9.78738725e-01, 2.10734289e-02, 1.87892991e-04],\n",
       "       [2.91320390e-07, 2.23275907e-02, 9.77672160e-01],\n",
       "       [5.82146738e-03, 9.94154513e-01, 2.40888658e-05],\n",
       "       [5.73097750e-05, 1.57884567e-03, 9.98363793e-01],\n",
       "       [9.90941703e-01, 4.82783606e-03, 4.23048763e-03],\n",
       "       [6.51913297e-06, 4.84269649e-01, 5.15723884e-01],\n",
       "       [4.36300092e-04, 9.89569545e-01, 9.99402069e-03],\n",
       "       [8.32261425e-03, 3.14531469e-04, 9.91362810e-01],\n",
       "       [9.37264115e-02, 9.06096399e-01, 1.77184906e-04],\n",
       "       [9.37734604e-01, 5.68259321e-02, 5.43942535e-03],\n",
       "       [1.34571223e-07, 9.25496817e-01, 7.45030791e-02],\n",
       "       [1.05138082e-04, 6.36810541e-01, 3.63084286e-01],\n",
       "       [1.03307558e-08, 7.23798621e-07, 9.99999285e-01],\n",
       "       [3.79630439e-02, 9.58793938e-01, 3.24310479e-03],\n",
       "       [3.73348412e-05, 2.39368455e-04, 9.99723256e-01],\n",
       "       [9.65770781e-01, 2.26711258e-02, 1.15579795e-02],\n",
       "       [7.79934006e-10, 3.86131323e-05, 9.99961376e-01],\n",
       "       [2.83951176e-05, 9.99946833e-01, 2.48013603e-05],\n",
       "       [7.24590473e-06, 9.27501544e-03, 9.90717709e-01],\n",
       "       [2.70924411e-05, 9.99938488e-01, 3.44524997e-05],\n",
       "       [4.85893630e-04, 7.73407333e-03, 9.91779983e-01],\n",
       "       [9.98867989e-01, 5.53792343e-04, 5.78195555e-04],\n",
       "       [2.03416035e-01, 7.96557903e-01, 2.60080506e-05],\n",
       "       [4.81146248e-03, 3.20921615e-02, 9.63096380e-01],\n",
       "       [7.39618481e-05, 5.06028593e-01, 4.93897468e-01],\n",
       "       [7.94258639e-02, 2.49477893e-01, 6.71096265e-01],\n",
       "       [5.74130043e-02, 4.11617532e-02, 9.01425183e-01],\n",
       "       [1.62007382e-05, 1.54279824e-05, 9.99968410e-01],\n",
       "       [9.97203588e-01, 2.70169624e-03, 9.47291774e-05],\n",
       "       [1.28297211e-06, 9.99201715e-01, 7.96981389e-04],\n",
       "       [7.09786662e-04, 2.65921233e-03, 9.96630967e-01],\n",
       "       [1.67368980e-05, 9.99983311e-01, 3.97781150e-08],\n",
       "       [2.27338113e-02, 1.97503623e-02, 9.57515895e-01],\n",
       "       [8.69866312e-01, 2.02389136e-02, 1.09894827e-01],\n",
       "       [8.44392926e-04, 1.13965925e-02, 9.87759054e-01],\n",
       "       [2.62388517e-03, 1.87416654e-02, 9.78634477e-01],\n",
       "       [3.13270793e-05, 9.99940157e-01, 2.84968755e-05],\n",
       "       [9.38029170e-01, 5.56666851e-02, 6.30417373e-03],\n",
       "       [2.22587420e-04, 7.40619516e-03, 9.92371202e-01],\n",
       "       [9.91955340e-01, 8.03714059e-03, 7.59247860e-06],\n",
       "       [1.84179691e-03, 1.47364262e-04, 9.98010814e-01],\n",
       "       [3.50456162e-06, 9.99742687e-01, 2.53862498e-04],\n",
       "       [9.99497294e-01, 5.02382056e-04, 3.73799423e-07],\n",
       "       [9.79063690e-01, 2.09361184e-02, 1.91709873e-07],\n",
       "       [9.53228593e-01, 2.50512781e-03, 4.42661941e-02],\n",
       "       [1.11702243e-02, 9.88814771e-01, 1.50186888e-05],\n",
       "       [1.02212578e-02, 1.95127204e-01, 7.94651568e-01],\n",
       "       [8.08020704e-05, 1.65455660e-03, 9.98264611e-01],\n",
       "       [9.99606669e-01, 3.89137334e-04, 4.12496820e-06],\n",
       "       [8.05601597e-01, 2.98666600e-02, 1.64531678e-01],\n",
       "       [8.09373603e-07, 8.98190250e-04, 9.99101043e-01],\n",
       "       [3.43874879e-02, 9.24383581e-01, 4.12289165e-02],\n",
       "       [6.73734322e-02, 2.29000510e-03, 9.30336535e-01],\n",
       "       [2.67445866e-05, 9.99960065e-01, 1.32270743e-05],\n",
       "       [4.18404925e-05, 5.01828454e-02, 9.49775279e-01],\n",
       "       [9.98563111e-01, 1.26468961e-03, 1.72301734e-04],\n",
       "       [9.98157322e-01, 7.59682094e-04, 1.08301884e-03],\n",
       "       [9.94014561e-01, 4.10535373e-03, 1.87999988e-03],\n",
       "       [8.56067002e-01, 5.36472478e-04, 1.43396541e-01],\n",
       "       [2.16244813e-03, 9.45016801e-01, 5.28207533e-02],\n",
       "       [9.41147029e-01, 5.14120869e-02, 7.44094700e-03],\n",
       "       [1.39257452e-03, 9.85647202e-01, 1.29601778e-02],\n",
       "       [3.05600930e-02, 9.68533933e-01, 9.06055560e-04],\n",
       "       [2.41816223e-01, 7.29312479e-01, 2.88713351e-02],\n",
       "       [7.04814017e-01, 2.67728686e-01, 2.74573378e-02],\n",
       "       [9.95517075e-01, 4.48156381e-03, 1.38552082e-06],\n",
       "       [9.97402370e-01, 2.53071683e-03, 6.69085421e-05],\n",
       "       [1.18955031e-04, 8.79028696e-04, 9.99002039e-01],\n",
       "       [3.64279190e-10, 8.19515844e-04, 9.99180496e-01],\n",
       "       [9.88703310e-01, 4.89669805e-03, 6.39993325e-03],\n",
       "       [9.38874146e-05, 9.99905944e-01, 8.97434091e-08],\n",
       "       [8.67961168e-01, 1.32035702e-01, 3.05637968e-06],\n",
       "       [5.25083487e-06, 3.64673324e-04, 9.99630094e-01],\n",
       "       [8.77525657e-04, 2.80435290e-03, 9.96318102e-01],\n",
       "       [2.50500743e-03, 7.62562573e-01, 2.34932467e-01],\n",
       "       [4.33694432e-03, 3.45113963e-01, 6.50549114e-01],\n",
       "       [2.73194983e-05, 2.67781690e-02, 9.73194540e-01],\n",
       "       [2.35745072e-04, 9.99734700e-01, 2.95994287e-05],\n",
       "       [1.58764590e-02, 9.46207166e-01, 3.79163846e-02],\n",
       "       [1.92477070e-02, 9.80734289e-01, 1.80411371e-05],\n",
       "       [7.68245637e-01, 2.31610537e-01, 1.43751546e-04],\n",
       "       [3.71562783e-04, 8.75349224e-01, 1.24279246e-01],\n",
       "       [9.53249097e-01, 4.66259383e-02, 1.24996091e-04],\n",
       "       [8.17085922e-01, 5.33032278e-03, 1.77583694e-01],\n",
       "       [9.92878735e-01, 7.11786887e-03, 3.38974110e-06],\n",
       "       [3.48155131e-03, 2.29617022e-02, 9.73556757e-01],\n",
       "       [5.95342975e-08, 4.25065123e-02, 9.57493484e-01],\n",
       "       [2.81950236e-07, 1.02624508e-04, 9.99897122e-01],\n",
       "       [7.96609104e-01, 4.32354547e-02, 1.60155445e-01],\n",
       "       [1.94154128e-01, 7.90937185e-01, 1.49086388e-02],\n",
       "       [8.95586908e-01, 1.04412898e-01, 2.48237910e-07],\n",
       "       [2.07498019e-09, 3.78594622e-02, 9.62140560e-01],\n",
       "       [3.08671087e-01, 1.14645772e-01, 5.76683223e-01],\n",
       "       [7.77268942e-05, 9.98564422e-01, 1.35785190e-03],\n",
       "       [9.99633193e-01, 3.07660928e-04, 5.91255084e-05],\n",
       "       [5.26937366e-01, 7.51655130e-03, 4.65546072e-01],\n",
       "       [8.78062487e-01, 1.21018618e-01, 9.18772654e-04],\n",
       "       [9.96832669e-01, 3.16717057e-03, 7.59594059e-08],\n",
       "       [2.94499216e-04, 7.54361739e-04, 9.98951077e-01],\n",
       "       [6.35022161e-06, 6.21922809e-05, 9.99931455e-01],\n",
       "       [1.04822675e-06, 4.76024143e-05, 9.99951363e-01],\n",
       "       [9.99272168e-01, 3.97266966e-04, 3.30549316e-04],\n",
       "       [8.55612219e-04, 7.69122562e-05, 9.99067485e-01],\n",
       "       [7.04553750e-05, 9.99789774e-01, 1.39838899e-04],\n",
       "       [3.33477035e-02, 9.63966906e-01, 2.68532289e-03],\n",
       "       [1.88386708e-04, 5.83559449e-04, 9.99228001e-01],\n",
       "       [9.92038488e-01, 7.65807461e-03, 3.03473993e-04],\n",
       "       [1.58227922e-05, 2.77942419e-03, 9.97204721e-01],\n",
       "       [9.87493277e-01, 7.05658924e-03, 5.45011228e-03],\n",
       "       [4.20723967e-02, 9.57852840e-01, 7.47351514e-05],\n",
       "       [2.10919622e-02, 9.73528266e-01, 5.37979789e-03],\n",
       "       [8.60556662e-01, 1.39428601e-01, 1.47256305e-05],\n",
       "       [1.76774425e-04, 9.98376608e-01, 1.44668110e-03],\n",
       "       [5.93871832e-01, 5.92965484e-02, 3.46831590e-01],\n",
       "       [1.19841432e-04, 2.32085958e-03, 9.97559309e-01],\n",
       "       [9.89700198e-01, 8.65053479e-03, 1.64923759e-03],\n",
       "       [4.84490335e-01, 5.11725485e-01, 3.78416409e-03],\n",
       "       [5.80520521e-09, 3.19379236e-04, 9.99680638e-01],\n",
       "       [3.10620853e-05, 9.84790981e-01, 1.51779093e-02],\n",
       "       [1.05891051e-03, 1.79931370e-03, 9.97141778e-01],\n",
       "       [7.06665814e-02, 1.69236943e-01, 7.60096431e-01],\n",
       "       [9.27911703e-09, 1.45701179e-03, 9.98543024e-01],\n",
       "       [2.93923352e-09, 2.97669700e-04, 9.99702275e-01],\n",
       "       [9.12188991e-09, 4.21254435e-06, 9.99995828e-01],\n",
       "       [6.53475285e-01, 3.08193088e-01, 3.83316204e-02],\n",
       "       [4.03726808e-05, 2.95110382e-02, 9.70448554e-01],\n",
       "       [5.51107281e-04, 2.46226117e-02, 9.74826276e-01],\n",
       "       [8.40331952e-04, 9.99017358e-01, 1.42307559e-04],\n",
       "       [4.60239500e-01, 5.39411068e-01, 3.49404203e-04],\n",
       "       [9.98580933e-01, 1.41642941e-03, 2.63512584e-06],\n",
       "       [9.24549639e-01, 7.39848316e-02, 1.46547495e-03],\n",
       "       [9.99912381e-01, 8.76593476e-05, 4.62001375e-11],\n",
       "       [9.86510217e-01, 9.96289589e-03, 3.52684176e-03],\n",
       "       [2.30034869e-02, 2.09443620e-03, 9.74902034e-01],\n",
       "       [3.05246795e-04, 9.73870516e-01, 2.58242209e-02],\n",
       "       [8.93840916e-04, 9.62532461e-01, 3.65736708e-02],\n",
       "       [3.06255240e-02, 9.20456827e-01, 4.89176326e-02],\n",
       "       [5.24823189e-01, 4.70657587e-01, 4.51922370e-03],\n",
       "       [4.89784380e-10, 2.57759559e-04, 9.99742210e-01],\n",
       "       [4.49190884e-06, 9.97779906e-01, 2.21564062e-03],\n",
       "       [9.43983018e-01, 4.09613457e-03, 5.19207865e-02],\n",
       "       [9.23225773e-04, 5.82964361e-01, 4.16112423e-01],\n",
       "       [9.87933874e-01, 9.26901121e-03, 2.79710442e-03],\n",
       "       [2.86480121e-04, 3.36858211e-04, 9.99376714e-01],\n",
       "       [9.54472661e-01, 4.55229655e-02, 4.43720046e-06]], dtype=float32)"
      ]
     },
     "execution_count": 22,
     "metadata": {},
     "output_type": "execute_result"
    }
   ],
   "source": [
    "ypred_test"
   ]
  },
  {
   "cell_type": "code",
   "execution_count": 23,
   "id": "5d09012c",
   "metadata": {},
   "outputs": [],
   "source": [
    "import numpy as np\n",
    "ypred_class=np.argmax(ypred_test,axis=1)"
   ]
  },
  {
   "cell_type": "code",
   "execution_count": 24,
   "id": "ec5f2526",
   "metadata": {},
   "outputs": [
    {
     "data": {
      "text/plain": [
       "array([1, 0, 1, 1, 2, 1, 0, 1, 0, 2, 2, 0, 1, 0, 0, 2, 0, 0, 0, 1, 1, 1,\n",
       "       1, 1, 1, 0, 2, 0, 0, 2, 0, 1, 1, 2, 2, 1, 2, 0, 0, 1, 1, 0, 2, 2,\n",
       "       1, 2, 2, 0, 2, 2, 0, 0, 0, 0, 2, 0, 2, 1, 2, 0, 2, 1, 2, 1, 0, 1,\n",
       "       1, 2, 1, 2, 0, 2, 1, 2, 1, 2, 0, 1, 2, 1, 2, 2, 2, 0, 1, 2, 1, 2,\n",
       "       0, 2, 2, 1, 0, 2, 0, 2, 1, 0, 0, 0, 1, 2, 2, 0, 0, 2, 1, 2, 1, 2,\n",
       "       0, 0, 0, 0, 1, 0, 1, 1, 1, 0, 0, 0, 2, 2, 0, 1, 0, 2, 2, 1, 2, 2,\n",
       "       1, 1, 1, 0, 1, 0, 0, 0, 2, 2, 2, 0, 1, 0, 2, 2, 1, 0, 0, 0, 0, 2,\n",
       "       2, 2, 0, 2, 1, 1, 2, 0, 2, 0, 1, 1, 0, 1, 0, 2, 0, 1, 2, 1, 2, 2,\n",
       "       2, 2, 2, 0, 2, 2, 1, 1, 0, 0, 0, 0, 2, 1, 1, 1, 0, 2, 1, 0, 1, 0,\n",
       "       2, 0], dtype=int64)"
      ]
     },
     "execution_count": 24,
     "metadata": {},
     "output_type": "execute_result"
    }
   ],
   "source": [
    "#predicted data\n",
    "ypred_class"
   ]
  },
  {
   "cell_type": "code",
   "execution_count": 25,
   "id": "b96a8a87",
   "metadata": {},
   "outputs": [
    {
     "data": {
      "text/plain": [
       "array([1, 0, 1, 0, 2, 1, 0, 1, 0, 2, 2, 0, 1, 0, 0, 2, 2, 0, 0, 1, 1, 1,\n",
       "       1, 1, 1, 0, 2, 0, 0, 2, 0, 1, 1, 1, 2, 1, 0, 0, 1, 1, 1, 0, 1, 2,\n",
       "       1, 2, 2, 0, 2, 1, 0, 0, 0, 0, 2, 0, 2, 1, 2, 0, 2, 1, 2, 1, 0, 1,\n",
       "       1, 2, 1, 2, 0, 2, 1, 2, 1, 2, 0, 0, 2, 2, 1, 2, 2, 0, 1, 2, 1, 2,\n",
       "       0, 2, 2, 1, 1, 2, 0, 2, 1, 0, 0, 0, 1, 2, 0, 0, 0, 2, 1, 2, 1, 2,\n",
       "       0, 0, 0, 0, 1, 0, 1, 1, 1, 2, 0, 0, 2, 2, 0, 1, 0, 2, 2, 2, 2, 2,\n",
       "       1, 1, 1, 1, 1, 0, 0, 0, 2, 2, 2, 0, 1, 1, 2, 2, 1, 0, 2, 1, 0, 2,\n",
       "       2, 2, 0, 2, 1, 1, 2, 0, 2, 0, 1, 0, 0, 1, 0, 2, 0, 0, 2, 1, 2, 2,\n",
       "       2, 2, 2, 1, 2, 2, 1, 1, 0, 0, 0, 0, 2, 1, 1, 1, 0, 2, 1, 0, 1, 0,\n",
       "       1, 0], dtype=int64)"
      ]
     },
     "execution_count": 25,
     "metadata": {},
     "output_type": "execute_result"
    }
   ],
   "source": [
    "#actual data\n",
    "ypred_test=np.argmax(y_test,axis=1)\n",
    "ypred_test"
   ]
  },
  {
   "cell_type": "markdown",
   "id": "73a0fb03",
   "metadata": {},
   "source": [
    "## Evaluation metrix"
   ]
  },
  {
   "cell_type": "code",
   "execution_count": 26,
   "id": "e5b5e798",
   "metadata": {},
   "outputs": [],
   "source": [
    "from sklearn.metrics import classification_report,confusion_matrix"
   ]
  },
  {
   "cell_type": "code",
   "execution_count": 27,
   "id": "f6dd9edc",
   "metadata": {},
   "outputs": [
    {
     "data": {
      "text/plain": [
       "array([[61,  4,  2],\n",
       "       [ 6, 55,  5],\n",
       "       [ 3,  2, 62]], dtype=int64)"
      ]
     },
     "execution_count": 27,
     "metadata": {},
     "output_type": "execute_result"
    }
   ],
   "source": [
    "cf=confusion_matrix(ypred_test,ypred_class)\n",
    "cf"
   ]
  },
  {
   "cell_type": "code",
   "execution_count": 28,
   "id": "bbabba36",
   "metadata": {},
   "outputs": [
    {
     "data": {
      "text/plain": [
       "<AxesSubplot:>"
      ]
     },
     "execution_count": 28,
     "metadata": {},
     "output_type": "execute_result"
    },
    {
     "data": {
      "image/png": "[encoded data removed]",
      "text/plain": [
       "<Figure size 432x288 with 2 Axes>"
      ]
     },
     "metadata": {
      "needs_background": "light"
     },
     "output_type": "display_data"
    }
   ],
   "source": [
    "import seaborn as sns\n",
    "sns.heatmap(cf,annot=True)"
   ]
  },
  {
   "cell_type": "code",
   "execution_count": 29,
   "id": "b057bbb7",
   "metadata": {
    "scrolled": true
   },
   "outputs": [
    {
     "name": "stdout",
     "output_type": "stream",
     "text": [
      "              precision    recall  f1-score   support\n",
      "\n",
      "           0       0.87      0.91      0.89        67\n",
      "           1       0.90      0.83      0.87        66\n",
      "           2       0.90      0.93      0.91        67\n",
      "\n",
      "    accuracy                           0.89       200\n",
      "   macro avg       0.89      0.89      0.89       200\n",
      "weighted avg       0.89      0.89      0.89       200\n",
      "\n"
     ]
    }
   ],
   "source": [
    "print(classification_report(ypred_test,ypred_class))"
   ]
  },
  {
   "cell_type": "code",
   "execution_count": 30,
   "id": "97455873",
   "metadata": {},
   "outputs": [],
   "source": [
    "#actual training \n",
    "yactual_training=np.argmax(y_train,axis=1)"
   ]
  },
  {
   "cell_type": "code",
   "execution_count": 31,
   "id": "b1e38f5d",
   "metadata": {},
   "outputs": [
    {
     "name": "stdout",
     "output_type": "stream",
     "text": [
      "25/25 [==============================] - 0s 752us/step\n"
     ]
    },
    {
     "data": {
      "text/plain": [
       "array([[9.1911918e-01, 8.0878355e-02, 2.4373785e-06],\n",
       "       [4.4871359e-03, 9.9549520e-01, 1.7740687e-05],\n",
       "       [1.1622605e-03, 9.9877876e-01, 5.8949863e-05],\n",
       "       ...,\n",
       "       [8.8432091e-01, 5.8865692e-02, 5.6813348e-02],\n",
       "       [9.9571604e-01, 2.5924812e-03, 1.6914713e-03],\n",
       "       [9.8047251e-01, 4.2971467e-05, 1.9484533e-02]], dtype=float32)"
      ]
     },
     "execution_count": 31,
     "metadata": {},
     "output_type": "execute_result"
    }
   ],
   "source": [
    "y_pred_train=nn.predict(x_train)\n",
    "y_pred_train"
   ]
  },
  {
   "cell_type": "code",
   "execution_count": 32,
   "id": "ebc1ef89",
   "metadata": {},
   "outputs": [],
   "source": [
    "#predicted training \n",
    "ypred_training=np.argmax(y_pred_train,axis=1)"
   ]
  },
  {
   "cell_type": "code",
   "execution_count": 33,
   "id": "ffd39271",
   "metadata": {},
   "outputs": [
    {
     "data": {
      "text/plain": [
       "array([[266,   8,   3],\n",
       "       [  1, 252,   1],\n",
       "       [  1,   6, 262]], dtype=int64)"
      ]
     },
     "execution_count": 33,
     "metadata": {},
     "output_type": "execute_result"
    }
   ],
   "source": [
    "cf=confusion_matrix(ypred_training,yactual_training)\n",
    "cf"
   ]
  },
  {
   "cell_type": "code",
   "execution_count": 34,
   "id": "2a4e6171",
   "metadata": {},
   "outputs": [
    {
     "data": {
      "text/plain": [
       "<AxesSubplot:>"
      ]
     },
     "execution_count": 34,
     "metadata": {},
     "output_type": "execute_result"
    },
    {
     "data": {
      "image/png": "[encoded data removed]",
      "text/plain": [
       "<Figure size 432x288 with 2 Axes>"
      ]
     },
     "metadata": {
      "needs_background": "light"
     },
     "output_type": "display_data"
    }
   ],
   "source": [
    "sns.heatmap(cf,annot=True)"
   ]
  },
  {
   "cell_type": "code",
   "execution_count": 35,
   "id": "efe21a8e",
   "metadata": {
    "scrolled": true
   },
   "outputs": [
    {
     "name": "stdout",
     "output_type": "stream",
     "text": [
      "              precision    recall  f1-score   support\n",
      "\n",
      "           0       0.99      0.96      0.98       277\n",
      "           1       0.95      0.99      0.97       254\n",
      "           2       0.98      0.97      0.98       269\n",
      "\n",
      "    accuracy                           0.97       800\n",
      "   macro avg       0.97      0.98      0.97       800\n",
      "weighted avg       0.98      0.97      0.98       800\n",
      "\n"
     ]
    }
   ],
   "source": [
    "print(classification_report(ypred_training,yactual_training))"
   ]
  }
 ],
 "metadata": {
  "kernelspec": {
   "display_name": "Python 3 (ipykernel)",
   "language": "python",
   "name": "python3"
  },
  "language_info": {
   "codemirror_mode": {
    "name": "ipython",
    "version": 3
   },
   "file_extension": ".py",
   "mimetype": "text/x-python",
   "name": "python",
   "nbconvert_exporter": "python",
   "pygments_lexer": "ipython3",
   "version": "3.9.7"
  }
 },
 "nbformat": 4,
 "nbformat_minor": 5
}
