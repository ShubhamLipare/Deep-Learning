{
 "cells": [
  {
   "cell_type": "code",
   "execution_count": 1,
   "id": "8ebf8f3c",
   "metadata": {},
   "outputs": [],
   "source": [
    "import pandas as pd"
   ]
  },
  {
   "cell_type": "code",
   "execution_count": 3,
   "id": "71392e32",
   "metadata": {},
   "outputs": [
    {
     "data": {
      "text/html": [
       "<div>\n",
       "<style scoped>\n",
       "    .dataframe tbody tr th:only-of-type {\n",
       "        vertical-align: middle;\n",
       "    }\n",
       "\n",
       "    .dataframe tbody tr th {\n",
       "        vertical-align: top;\n",
       "    }\n",
       "\n",
       "    .dataframe thead th {\n",
       "        text-align: right;\n",
       "    }\n",
       "</style>\n",
       "<table border=\"1\" class=\"dataframe\">\n",
       "  <thead>\n",
       "    <tr style=\"text-align: right;\">\n",
       "      <th></th>\n",
       "      <th>id</th>\n",
       "      <th>carat</th>\n",
       "      <th>cut</th>\n",
       "      <th>color</th>\n",
       "      <th>clarity</th>\n",
       "      <th>depth</th>\n",
       "      <th>table</th>\n",
       "      <th>x</th>\n",
       "      <th>y</th>\n",
       "      <th>z</th>\n",
       "      <th>price</th>\n",
       "    </tr>\n",
       "  </thead>\n",
       "  <tbody>\n",
       "    <tr>\n",
       "      <th>0</th>\n",
       "      <td>0</td>\n",
       "      <td>1.52</td>\n",
       "      <td>Premium</td>\n",
       "      <td>F</td>\n",
       "      <td>VS2</td>\n",
       "      <td>62.2</td>\n",
       "      <td>58.0</td>\n",
       "      <td>7.27</td>\n",
       "      <td>7.33</td>\n",
       "      <td>4.55</td>\n",
       "      <td>13619</td>\n",
       "    </tr>\n",
       "    <tr>\n",
       "      <th>1</th>\n",
       "      <td>1</td>\n",
       "      <td>2.03</td>\n",
       "      <td>Very Good</td>\n",
       "      <td>J</td>\n",
       "      <td>SI2</td>\n",
       "      <td>62.0</td>\n",
       "      <td>58.0</td>\n",
       "      <td>8.06</td>\n",
       "      <td>8.12</td>\n",
       "      <td>5.05</td>\n",
       "      <td>13387</td>\n",
       "    </tr>\n",
       "    <tr>\n",
       "      <th>2</th>\n",
       "      <td>2</td>\n",
       "      <td>0.70</td>\n",
       "      <td>Ideal</td>\n",
       "      <td>G</td>\n",
       "      <td>VS1</td>\n",
       "      <td>61.2</td>\n",
       "      <td>57.0</td>\n",
       "      <td>5.69</td>\n",
       "      <td>5.73</td>\n",
       "      <td>3.50</td>\n",
       "      <td>2772</td>\n",
       "    </tr>\n",
       "    <tr>\n",
       "      <th>3</th>\n",
       "      <td>3</td>\n",
       "      <td>0.32</td>\n",
       "      <td>Ideal</td>\n",
       "      <td>G</td>\n",
       "      <td>VS1</td>\n",
       "      <td>61.6</td>\n",
       "      <td>56.0</td>\n",
       "      <td>4.38</td>\n",
       "      <td>4.41</td>\n",
       "      <td>2.71</td>\n",
       "      <td>666</td>\n",
       "    </tr>\n",
       "    <tr>\n",
       "      <th>4</th>\n",
       "      <td>4</td>\n",
       "      <td>1.70</td>\n",
       "      <td>Premium</td>\n",
       "      <td>G</td>\n",
       "      <td>VS2</td>\n",
       "      <td>62.6</td>\n",
       "      <td>59.0</td>\n",
       "      <td>7.65</td>\n",
       "      <td>7.61</td>\n",
       "      <td>4.77</td>\n",
       "      <td>14453</td>\n",
       "    </tr>\n",
       "  </tbody>\n",
       "</table>\n",
       "</div>"
      ],
      "text/plain": [
       "   id  carat        cut color clarity  depth  table     x     y     z  price\n",
       "0   0   1.52    Premium     F     VS2   62.2   58.0  7.27  7.33  4.55  13619\n",
       "1   1   2.03  Very Good     J     SI2   62.0   58.0  8.06  8.12  5.05  13387\n",
       "2   2   0.70      Ideal     G     VS1   61.2   57.0  5.69  5.73  3.50   2772\n",
       "3   3   0.32      Ideal     G     VS1   61.6   56.0  4.38  4.41  2.71    666\n",
       "4   4   1.70    Premium     G     VS2   62.6   59.0  7.65  7.61  4.77  14453"
      ]
     },
     "execution_count": 3,
     "metadata": {},
     "output_type": "execute_result"
    }
   ],
   "source": [
    "df=pd.read_csv(r\"E:\\Courses\\Data science(ETLHive)\\Deep learning\\notes\\diamond.csv\")\n",
    "df.head()"
   ]
  },
  {
   "cell_type": "code",
   "execution_count": 34,
   "id": "b03cae03",
   "metadata": {},
   "outputs": [
    {
     "data": {
      "text/plain": [
       "(193573, 10)"
      ]
     },
     "execution_count": 34,
     "metadata": {},
     "output_type": "execute_result"
    }
   ],
   "source": [
    "df.shape"
   ]
  },
  {
   "cell_type": "code",
   "execution_count": 4,
   "id": "b25d479b",
   "metadata": {},
   "outputs": [
    {
     "data": {
      "text/html": [
       "<div>\n",
       "<style scoped>\n",
       "    .dataframe tbody tr th:only-of-type {\n",
       "        vertical-align: middle;\n",
       "    }\n",
       "\n",
       "    .dataframe tbody tr th {\n",
       "        vertical-align: top;\n",
       "    }\n",
       "\n",
       "    .dataframe thead th {\n",
       "        text-align: right;\n",
       "    }\n",
       "</style>\n",
       "<table border=\"1\" class=\"dataframe\">\n",
       "  <thead>\n",
       "    <tr style=\"text-align: right;\">\n",
       "      <th></th>\n",
       "      <th>carat</th>\n",
       "      <th>cut</th>\n",
       "      <th>color</th>\n",
       "      <th>clarity</th>\n",
       "      <th>depth</th>\n",
       "      <th>table</th>\n",
       "      <th>x</th>\n",
       "      <th>y</th>\n",
       "      <th>z</th>\n",
       "      <th>price</th>\n",
       "    </tr>\n",
       "  </thead>\n",
       "  <tbody>\n",
       "    <tr>\n",
       "      <th>0</th>\n",
       "      <td>1.52</td>\n",
       "      <td>Premium</td>\n",
       "      <td>F</td>\n",
       "      <td>VS2</td>\n",
       "      <td>62.2</td>\n",
       "      <td>58.0</td>\n",
       "      <td>7.27</td>\n",
       "      <td>7.33</td>\n",
       "      <td>4.55</td>\n",
       "      <td>13619</td>\n",
       "    </tr>\n",
       "    <tr>\n",
       "      <th>1</th>\n",
       "      <td>2.03</td>\n",
       "      <td>Very Good</td>\n",
       "      <td>J</td>\n",
       "      <td>SI2</td>\n",
       "      <td>62.0</td>\n",
       "      <td>58.0</td>\n",
       "      <td>8.06</td>\n",
       "      <td>8.12</td>\n",
       "      <td>5.05</td>\n",
       "      <td>13387</td>\n",
       "    </tr>\n",
       "    <tr>\n",
       "      <th>2</th>\n",
       "      <td>0.70</td>\n",
       "      <td>Ideal</td>\n",
       "      <td>G</td>\n",
       "      <td>VS1</td>\n",
       "      <td>61.2</td>\n",
       "      <td>57.0</td>\n",
       "      <td>5.69</td>\n",
       "      <td>5.73</td>\n",
       "      <td>3.50</td>\n",
       "      <td>2772</td>\n",
       "    </tr>\n",
       "    <tr>\n",
       "      <th>3</th>\n",
       "      <td>0.32</td>\n",
       "      <td>Ideal</td>\n",
       "      <td>G</td>\n",
       "      <td>VS1</td>\n",
       "      <td>61.6</td>\n",
       "      <td>56.0</td>\n",
       "      <td>4.38</td>\n",
       "      <td>4.41</td>\n",
       "      <td>2.71</td>\n",
       "      <td>666</td>\n",
       "    </tr>\n",
       "    <tr>\n",
       "      <th>4</th>\n",
       "      <td>1.70</td>\n",
       "      <td>Premium</td>\n",
       "      <td>G</td>\n",
       "      <td>VS2</td>\n",
       "      <td>62.6</td>\n",
       "      <td>59.0</td>\n",
       "      <td>7.65</td>\n",
       "      <td>7.61</td>\n",
       "      <td>4.77</td>\n",
       "      <td>14453</td>\n",
       "    </tr>\n",
       "  </tbody>\n",
       "</table>\n",
       "</div>"
      ],
      "text/plain": [
       "   carat        cut color clarity  depth  table     x     y     z  price\n",
       "0   1.52    Premium     F     VS2   62.2   58.0  7.27  7.33  4.55  13619\n",
       "1   2.03  Very Good     J     SI2   62.0   58.0  8.06  8.12  5.05  13387\n",
       "2   0.70      Ideal     G     VS1   61.2   57.0  5.69  5.73  3.50   2772\n",
       "3   0.32      Ideal     G     VS1   61.6   56.0  4.38  4.41  2.71    666\n",
       "4   1.70    Premium     G     VS2   62.6   59.0  7.65  7.61  4.77  14453"
      ]
     },
     "execution_count": 4,
     "metadata": {},
     "output_type": "execute_result"
    }
   ],
   "source": [
    "df = df.drop(labels=['id'],axis=1)\n",
    "df.head()"
   ]
  },
  {
   "cell_type": "markdown",
   "id": "791727c4",
   "metadata": {},
   "source": [
    "## Seperating Categorical columns for encoding"
   ]
  },
  {
   "cell_type": "code",
   "execution_count": 9,
   "id": "c82779fe",
   "metadata": {},
   "outputs": [
    {
     "data": {
      "text/plain": [
       "['cut', 'color', 'clarity']"
      ]
     },
     "execution_count": 9,
     "metadata": {},
     "output_type": "execute_result"
    }
   ],
   "source": [
    "cat=list(df.columns[df.dtypes==\"object\"])\n",
    "cat"
   ]
  },
  {
   "cell_type": "code",
   "execution_count": 10,
   "id": "3f611790",
   "metadata": {},
   "outputs": [
    {
     "data": {
      "text/plain": [
       "['carat', 'depth', 'table', 'x', 'y', 'z', 'price']"
      ]
     },
     "execution_count": 10,
     "metadata": {},
     "output_type": "execute_result"
    }
   ],
   "source": [
    "num=list(df.columns[df.dtypes!=\"object\"])\n",
    "num"
   ]
  },
  {
   "cell_type": "code",
   "execution_count": 11,
   "id": "3ae3f1c0",
   "metadata": {},
   "outputs": [],
   "source": [
    "scale_mapper_cut = {\"Fair\":1, \"Good\":2, \"Very Good\":3 , \"Premium\":4 ,\"Ideal\":5}\n",
    "scale_mapper_clarity = {\"I1\":1,\"SI2\":2 ,\"SI1\":3 ,\"VS2\":4 , \"VS1\":5 , \"VVS2\":6 , \"VVS1\":7 ,\"IF\":8}\n",
    "scale_mapper_color = {\"D\":7 ,\"E\":6 ,\"F\":5 , \"G\":4 ,\"H\":3 , \"I\":2, \"J\":1}"
   ]
  },
  {
   "cell_type": "code",
   "execution_count": 12,
   "id": "ebd5ad41",
   "metadata": {},
   "outputs": [],
   "source": [
    "df['cut'] = df['cut'].replace(scale_mapper_cut)\n",
    "df['color'] = df['color'].replace(scale_mapper_color)\n",
    "df['clarity'] = df['clarity'].replace(scale_mapper_clarity)"
   ]
  },
  {
   "cell_type": "code",
   "execution_count": 13,
   "id": "b64a1592",
   "metadata": {},
   "outputs": [
    {
     "data": {
      "text/html": [
       "<div>\n",
       "<style scoped>\n",
       "    .dataframe tbody tr th:only-of-type {\n",
       "        vertical-align: middle;\n",
       "    }\n",
       "\n",
       "    .dataframe tbody tr th {\n",
       "        vertical-align: top;\n",
       "    }\n",
       "\n",
       "    .dataframe thead th {\n",
       "        text-align: right;\n",
       "    }\n",
       "</style>\n",
       "<table border=\"1\" class=\"dataframe\">\n",
       "  <thead>\n",
       "    <tr style=\"text-align: right;\">\n",
       "      <th></th>\n",
       "      <th>carat</th>\n",
       "      <th>cut</th>\n",
       "      <th>color</th>\n",
       "      <th>clarity</th>\n",
       "      <th>depth</th>\n",
       "      <th>table</th>\n",
       "      <th>x</th>\n",
       "      <th>y</th>\n",
       "      <th>z</th>\n",
       "      <th>price</th>\n",
       "    </tr>\n",
       "  </thead>\n",
       "  <tbody>\n",
       "    <tr>\n",
       "      <th>0</th>\n",
       "      <td>1.52</td>\n",
       "      <td>4</td>\n",
       "      <td>5</td>\n",
       "      <td>4</td>\n",
       "      <td>62.2</td>\n",
       "      <td>58.0</td>\n",
       "      <td>7.27</td>\n",
       "      <td>7.33</td>\n",
       "      <td>4.55</td>\n",
       "      <td>13619</td>\n",
       "    </tr>\n",
       "    <tr>\n",
       "      <th>1</th>\n",
       "      <td>2.03</td>\n",
       "      <td>3</td>\n",
       "      <td>1</td>\n",
       "      <td>2</td>\n",
       "      <td>62.0</td>\n",
       "      <td>58.0</td>\n",
       "      <td>8.06</td>\n",
       "      <td>8.12</td>\n",
       "      <td>5.05</td>\n",
       "      <td>13387</td>\n",
       "    </tr>\n",
       "    <tr>\n",
       "      <th>2</th>\n",
       "      <td>0.70</td>\n",
       "      <td>5</td>\n",
       "      <td>4</td>\n",
       "      <td>5</td>\n",
       "      <td>61.2</td>\n",
       "      <td>57.0</td>\n",
       "      <td>5.69</td>\n",
       "      <td>5.73</td>\n",
       "      <td>3.50</td>\n",
       "      <td>2772</td>\n",
       "    </tr>\n",
       "    <tr>\n",
       "      <th>3</th>\n",
       "      <td>0.32</td>\n",
       "      <td>5</td>\n",
       "      <td>4</td>\n",
       "      <td>5</td>\n",
       "      <td>61.6</td>\n",
       "      <td>56.0</td>\n",
       "      <td>4.38</td>\n",
       "      <td>4.41</td>\n",
       "      <td>2.71</td>\n",
       "      <td>666</td>\n",
       "    </tr>\n",
       "    <tr>\n",
       "      <th>4</th>\n",
       "      <td>1.70</td>\n",
       "      <td>4</td>\n",
       "      <td>4</td>\n",
       "      <td>4</td>\n",
       "      <td>62.6</td>\n",
       "      <td>59.0</td>\n",
       "      <td>7.65</td>\n",
       "      <td>7.61</td>\n",
       "      <td>4.77</td>\n",
       "      <td>14453</td>\n",
       "    </tr>\n",
       "  </tbody>\n",
       "</table>\n",
       "</div>"
      ],
      "text/plain": [
       "   carat  cut  color  clarity  depth  table     x     y     z  price\n",
       "0   1.52    4      5        4   62.2   58.0  7.27  7.33  4.55  13619\n",
       "1   2.03    3      1        2   62.0   58.0  8.06  8.12  5.05  13387\n",
       "2   0.70    5      4        5   61.2   57.0  5.69  5.73  3.50   2772\n",
       "3   0.32    5      4        5   61.6   56.0  4.38  4.41  2.71    666\n",
       "4   1.70    4      4        4   62.6   59.0  7.65  7.61  4.77  14453"
      ]
     },
     "execution_count": 13,
     "metadata": {},
     "output_type": "execute_result"
    }
   ],
   "source": [
    "df.head()"
   ]
  },
  {
   "cell_type": "code",
   "execution_count": 14,
   "id": "35fde82b",
   "metadata": {},
   "outputs": [],
   "source": [
    "x=df.drop('price',axis=1)\n",
    "y=df.price"
   ]
  },
  {
   "cell_type": "code",
   "execution_count": 16,
   "id": "c620e542",
   "metadata": {},
   "outputs": [
    {
     "data": {
      "text/html": [
       "<div>\n",
       "<style scoped>\n",
       "    .dataframe tbody tr th:only-of-type {\n",
       "        vertical-align: middle;\n",
       "    }\n",
       "\n",
       "    .dataframe tbody tr th {\n",
       "        vertical-align: top;\n",
       "    }\n",
       "\n",
       "    .dataframe thead th {\n",
       "        text-align: right;\n",
       "    }\n",
       "</style>\n",
       "<table border=\"1\" class=\"dataframe\">\n",
       "  <thead>\n",
       "    <tr style=\"text-align: right;\">\n",
       "      <th></th>\n",
       "      <th>carat</th>\n",
       "      <th>cut</th>\n",
       "      <th>color</th>\n",
       "      <th>clarity</th>\n",
       "      <th>depth</th>\n",
       "      <th>table</th>\n",
       "      <th>x</th>\n",
       "      <th>y</th>\n",
       "      <th>z</th>\n",
       "    </tr>\n",
       "  </thead>\n",
       "  <tbody>\n",
       "    <tr>\n",
       "      <th>0</th>\n",
       "      <td>1.52</td>\n",
       "      <td>4</td>\n",
       "      <td>5</td>\n",
       "      <td>4</td>\n",
       "      <td>62.2</td>\n",
       "      <td>58.0</td>\n",
       "      <td>7.27</td>\n",
       "      <td>7.33</td>\n",
       "      <td>4.55</td>\n",
       "    </tr>\n",
       "    <tr>\n",
       "      <th>1</th>\n",
       "      <td>2.03</td>\n",
       "      <td>3</td>\n",
       "      <td>1</td>\n",
       "      <td>2</td>\n",
       "      <td>62.0</td>\n",
       "      <td>58.0</td>\n",
       "      <td>8.06</td>\n",
       "      <td>8.12</td>\n",
       "      <td>5.05</td>\n",
       "    </tr>\n",
       "    <tr>\n",
       "      <th>2</th>\n",
       "      <td>0.70</td>\n",
       "      <td>5</td>\n",
       "      <td>4</td>\n",
       "      <td>5</td>\n",
       "      <td>61.2</td>\n",
       "      <td>57.0</td>\n",
       "      <td>5.69</td>\n",
       "      <td>5.73</td>\n",
       "      <td>3.50</td>\n",
       "    </tr>\n",
       "    <tr>\n",
       "      <th>3</th>\n",
       "      <td>0.32</td>\n",
       "      <td>5</td>\n",
       "      <td>4</td>\n",
       "      <td>5</td>\n",
       "      <td>61.6</td>\n",
       "      <td>56.0</td>\n",
       "      <td>4.38</td>\n",
       "      <td>4.41</td>\n",
       "      <td>2.71</td>\n",
       "    </tr>\n",
       "    <tr>\n",
       "      <th>4</th>\n",
       "      <td>1.70</td>\n",
       "      <td>4</td>\n",
       "      <td>4</td>\n",
       "      <td>4</td>\n",
       "      <td>62.6</td>\n",
       "      <td>59.0</td>\n",
       "      <td>7.65</td>\n",
       "      <td>7.61</td>\n",
       "      <td>4.77</td>\n",
       "    </tr>\n",
       "  </tbody>\n",
       "</table>\n",
       "</div>"
      ],
      "text/plain": [
       "   carat  cut  color  clarity  depth  table     x     y     z\n",
       "0   1.52    4      5        4   62.2   58.0  7.27  7.33  4.55\n",
       "1   2.03    3      1        2   62.0   58.0  8.06  8.12  5.05\n",
       "2   0.70    5      4        5   61.2   57.0  5.69  5.73  3.50\n",
       "3   0.32    5      4        5   61.6   56.0  4.38  4.41  2.71\n",
       "4   1.70    4      4        4   62.6   59.0  7.65  7.61  4.77"
      ]
     },
     "execution_count": 16,
     "metadata": {},
     "output_type": "execute_result"
    }
   ],
   "source": [
    "x.head()"
   ]
  },
  {
   "cell_type": "code",
   "execution_count": 17,
   "id": "c46c0c74",
   "metadata": {},
   "outputs": [
    {
     "data": {
      "text/plain": [
       "0    13619\n",
       "1    13387\n",
       "2     2772\n",
       "3      666\n",
       "4    14453\n",
       "Name: price, dtype: int64"
      ]
     },
     "execution_count": 17,
     "metadata": {},
     "output_type": "execute_result"
    }
   ],
   "source": [
    "y.head()"
   ]
  },
  {
   "cell_type": "code",
   "execution_count": 18,
   "id": "d390e92a",
   "metadata": {},
   "outputs": [],
   "source": [
    "from sklearn.model_selection import train_test_split\n",
    "xtrain, xtest, ytrain, ytest = train_test_split(x, y,test_size=0.2,random_state=42)"
   ]
  },
  {
   "cell_type": "code",
   "execution_count": 19,
   "id": "302ad444",
   "metadata": {},
   "outputs": [
    {
     "data": {
      "text/plain": [
       "(154858, 9)"
      ]
     },
     "execution_count": 19,
     "metadata": {},
     "output_type": "execute_result"
    }
   ],
   "source": [
    "xtrain.shape"
   ]
  },
  {
   "cell_type": "code",
   "execution_count": 20,
   "id": "ad960bee",
   "metadata": {},
   "outputs": [
    {
     "data": {
      "text/plain": [
       "(38715, 9)"
      ]
     },
     "execution_count": 20,
     "metadata": {},
     "output_type": "execute_result"
    }
   ],
   "source": [
    "xtest.shape"
   ]
  },
  {
   "cell_type": "markdown",
   "id": "27f35994",
   "metadata": {},
   "source": [
    "## Standard scaling "
   ]
  },
  {
   "cell_type": "code",
   "execution_count": 21,
   "id": "fd10f656",
   "metadata": {},
   "outputs": [],
   "source": [
    "from sklearn.preprocessing import StandardScaler\n",
    "scaler = StandardScaler()\n",
    "xtrain = pd.DataFrame(scaler.fit_transform(xtrain),columns=xtrain.columns)\n",
    "xtest = pd.DataFrame(scaler.transform(xtest),columns=xtest.columns)"
   ]
  },
  {
   "cell_type": "markdown",
   "id": "0ab5cb24",
   "metadata": {},
   "source": [
    "## modeling building"
   ]
  },
  {
   "cell_type": "code",
   "execution_count": 23,
   "id": "6dc687f7",
   "metadata": {},
   "outputs": [],
   "source": [
    "from keras.models import Sequential\n",
    "from keras.layers import Dense,Dropout,BatchNormalization\n",
    "from keras.callbacks import EarlyStopping"
   ]
  },
  {
   "cell_type": "code",
   "execution_count": 24,
   "id": "6aca7626",
   "metadata": {},
   "outputs": [],
   "source": [
    "nn = Sequential()\n",
    "nn.add(Dense(128,input_dim=xtrain.shape[1],activation='relu'))\n",
    "nn.add(BatchNormalization())\n",
    "nn.add(Dropout(0.3))\n",
    "nn.add(Dense(64,activation='relu'))\n",
    "nn.add(BatchNormalization())\n",
    "nn.add(Dropout(0.3))\n",
    "nn.add(Dense(1,activation='linear'))"
   ]
  },
  {
   "cell_type": "code",
   "execution_count": 25,
   "id": "2182fc15",
   "metadata": {},
   "outputs": [],
   "source": [
    "early_stop = EarlyStopping(monitor='val_loss',patience=30)"
   ]
  },
  {
   "cell_type": "code",
   "execution_count": 26,
   "id": "ad7a699f",
   "metadata": {},
   "outputs": [],
   "source": [
    "nn.compile(loss='mse',optimizer='adam',metrics=['mae'])"
   ]
  },
  {
   "cell_type": "code",
   "execution_count": 27,
   "id": "4021a6a4",
   "metadata": {},
   "outputs": [
    {
     "name": "stdout",
     "output_type": "stream",
     "text": [
      "Epoch 1/200\n",
      "3872/3872 [==============================] - 7s 2ms/step - loss: 23696364.0000 - mae: 3419.7739 - val_loss: 11935630.0000 - val_mae: 2505.8647\n",
      "Epoch 2/200\n",
      "3872/3872 [==============================] - 6s 1ms/step - loss: 5144557.0000 - mae: 1467.7104 - val_loss: 705645.6875 - val_mae: 478.9751\n",
      "Epoch 3/200\n",
      "3872/3872 [==============================] - 6s 1ms/step - loss: 1627217.2500 - mae: 822.9255 - val_loss: 440988.5625 - val_mae: 374.8081\n",
      "Epoch 4/200\n",
      "3872/3872 [==============================] - 6s 1ms/step - loss: 1405150.2500 - mae: 791.2704 - val_loss: 427918.5938 - val_mae: 354.6034\n",
      "Epoch 5/200\n",
      "3872/3872 [==============================] - 6s 1ms/step - loss: 1362751.3750 - mae: 791.1081 - val_loss: 428958.2812 - val_mae: 369.6703\n",
      "Epoch 6/200\n",
      "3872/3872 [==============================] - 6s 1ms/step - loss: 1309793.5000 - mae: 789.0151 - val_loss: 440035.8125 - val_mae: 377.2000\n",
      "Epoch 7/200\n",
      "3872/3872 [==============================] - 6s 1ms/step - loss: 1306603.6250 - mae: 795.1430 - val_loss: 419408.5312 - val_mae: 335.4388\n",
      "Epoch 8/200\n",
      "3872/3872 [==============================] - 6s 1ms/step - loss: 1323503.7500 - mae: 807.2517 - val_loss: 462696.7500 - val_mae: 400.8542\n",
      "Epoch 9/200\n",
      "3872/3872 [==============================] - 6s 1ms/step - loss: 1308055.3750 - mae: 807.3928 - val_loss: 443811.0000 - val_mae: 345.3654\n",
      "Epoch 10/200\n",
      "3872/3872 [==============================] - 6s 1ms/step - loss: 1309844.8750 - mae: 811.5673 - val_loss: 416249.5938 - val_mae: 350.5799\n",
      "Epoch 11/200\n",
      "3872/3872 [==============================] - 6s 1ms/step - loss: 1288021.1250 - mae: 803.3815 - val_loss: 416945.5625 - val_mae: 355.0686\n",
      "Epoch 12/200\n",
      "3872/3872 [==============================] - 6s 1ms/step - loss: 1274883.5000 - mae: 801.3862 - val_loss: 416054.1875 - val_mae: 333.4827\n",
      "Epoch 13/200\n",
      "3872/3872 [==============================] - 6s 1ms/step - loss: 1250137.1250 - mae: 794.0681 - val_loss: 417676.7188 - val_mae: 337.7348\n",
      "Epoch 14/200\n",
      "3872/3872 [==============================] - 6s 1ms/step - loss: 1280671.7500 - mae: 804.8169 - val_loss: 427634.1250 - val_mae: 334.5672\n",
      "Epoch 15/200\n",
      "3872/3872 [==============================] - 6s 1ms/step - loss: 1285237.3750 - mae: 808.0380 - val_loss: 446484.1250 - val_mae: 340.8634\n",
      "Epoch 16/200\n",
      "3872/3872 [==============================] - 6s 1ms/step - loss: 1273300.7500 - mae: 805.0224 - val_loss: 416370.2500 - val_mae: 338.6859\n",
      "Epoch 17/200\n",
      "3872/3872 [==============================] - 6s 1ms/step - loss: 1262767.8750 - mae: 800.5089 - val_loss: 421637.1875 - val_mae: 346.9183\n",
      "Epoch 18/200\n",
      "3872/3872 [==============================] - 6s 1ms/step - loss: 1277728.7500 - mae: 805.8202 - val_loss: 483638.7812 - val_mae: 422.6744\n",
      "Epoch 19/200\n",
      "3872/3872 [==============================] - 6s 1ms/step - loss: 1256436.3750 - mae: 797.7356 - val_loss: 431728.1250 - val_mae: 398.2732\n",
      "Epoch 20/200\n",
      "3872/3872 [==============================] - 6s 1ms/step - loss: 1257586.2500 - mae: 800.3736 - val_loss: 407618.3750 - val_mae: 341.9510\n",
      "Epoch 21/200\n",
      "3872/3872 [==============================] - 6s 1ms/step - loss: 1253518.6250 - mae: 799.8089 - val_loss: 432808.0938 - val_mae: 387.9154\n",
      "Epoch 22/200\n",
      "3872/3872 [==============================] - 6s 1ms/step - loss: 1265234.7500 - mae: 802.7939 - val_loss: 501110.6875 - val_mae: 383.5222\n",
      "Epoch 23/200\n",
      "3872/3872 [==============================] - 6s 1ms/step - loss: 1261934.2500 - mae: 803.0152 - val_loss: 417892.1875 - val_mae: 375.1030\n",
      "Epoch 24/200\n",
      "3872/3872 [==============================] - 6s 1ms/step - loss: 1262598.5000 - mae: 805.0501 - val_loss: 412483.0312 - val_mae: 342.7499\n",
      "Epoch 25/200\n",
      "3872/3872 [==============================] - 6s 1ms/step - loss: 1257994.5000 - mae: 799.7938 - val_loss: 421292.1562 - val_mae: 353.8903\n",
      "Epoch 26/200\n",
      "3872/3872 [==============================] - 6s 1ms/step - loss: 1256397.1250 - mae: 803.4079 - val_loss: 406802.3125 - val_mae: 339.0044\n",
      "Epoch 27/200\n",
      "3872/3872 [==============================] - 6s 1ms/step - loss: 1283105.7500 - mae: 810.0795 - val_loss: 412630.8750 - val_mae: 327.9534\n",
      "Epoch 28/200\n",
      "3872/3872 [==============================] - 6s 1ms/step - loss: 1262235.3750 - mae: 803.1313 - val_loss: 410202.0625 - val_mae: 363.1779\n",
      "Epoch 29/200\n",
      "3872/3872 [==============================] - 6s 1ms/step - loss: 1246077.8750 - mae: 799.8318 - val_loss: 426638.7500 - val_mae: 373.1288\n",
      "Epoch 30/200\n",
      "3872/3872 [==============================] - 6s 1ms/step - loss: 1246712.0000 - mae: 798.2852 - val_loss: 408926.3438 - val_mae: 338.8441\n",
      "Epoch 31/200\n",
      "3872/3872 [==============================] - 6s 1ms/step - loss: 1257551.8750 - mae: 805.2391 - val_loss: 438718.3125 - val_mae: 430.4992\n",
      "Epoch 32/200\n",
      "3872/3872 [==============================] - 6s 1ms/step - loss: 1268798.5000 - mae: 805.2148 - val_loss: 413428.7500 - val_mae: 370.4000\n",
      "Epoch 33/200\n",
      "3872/3872 [==============================] - 6s 1ms/step - loss: 1247079.2500 - mae: 797.8385 - val_loss: 428181.0312 - val_mae: 362.1372\n",
      "Epoch 34/200\n",
      "3872/3872 [==============================] - 6s 1ms/step - loss: 1232158.3750 - mae: 791.3942 - val_loss: 408013.8438 - val_mae: 325.7267\n",
      "Epoch 35/200\n",
      "3872/3872 [==============================] - 6s 1ms/step - loss: 1230372.5000 - mae: 792.7310 - val_loss: 455283.6875 - val_mae: 422.0013\n",
      "Epoch 36/200\n",
      "3872/3872 [==============================] - 6s 1ms/step - loss: 1269219.5000 - mae: 807.5486 - val_loss: 468248.2812 - val_mae: 435.1674\n",
      "Epoch 37/200\n",
      "3872/3872 [==============================] - 6s 1ms/step - loss: 1275244.1250 - mae: 812.2369 - val_loss: 403135.9375 - val_mae: 324.2423\n",
      "Epoch 38/200\n",
      "3872/3872 [==============================] - 6s 1ms/step - loss: 1253872.6250 - mae: 803.6527 - val_loss: 411183.7812 - val_mae: 354.0412\n",
      "Epoch 39/200\n",
      "3872/3872 [==============================] - 6s 1ms/step - loss: 1260315.7500 - mae: 807.7375 - val_loss: 408020.6875 - val_mae: 325.4840\n",
      "Epoch 40/200\n",
      "3872/3872 [==============================] - 6s 1ms/step - loss: 1246574.1250 - mae: 801.8398 - val_loss: 487259.8125 - val_mae: 470.9863\n",
      "Epoch 41/200\n",
      "3872/3872 [==============================] - 6s 1ms/step - loss: 1273079.2500 - mae: 809.9820 - val_loss: 447950.2188 - val_mae: 446.1404\n",
      "Epoch 42/200\n",
      "3872/3872 [==============================] - 6s 1ms/step - loss: 1260602.1250 - mae: 804.2009 - val_loss: 489102.9062 - val_mae: 487.3496\n",
      "Epoch 43/200\n",
      "3872/3872 [==============================] - 6s 1ms/step - loss: 1230816.3750 - mae: 793.6520 - val_loss: 417247.0938 - val_mae: 365.8033\n",
      "Epoch 44/200\n",
      "3872/3872 [==============================] - 6s 1ms/step - loss: 1241019.0000 - mae: 793.7415 - val_loss: 418139.8438 - val_mae: 347.8519\n",
      "Epoch 45/200\n",
      "3872/3872 [==============================] - 6s 1ms/step - loss: 1239756.1250 - mae: 797.9297 - val_loss: 459281.7500 - val_mae: 448.6054\n",
      "Epoch 46/200\n",
      "3872/3872 [==============================] - 6s 1ms/step - loss: 1263891.7500 - mae: 804.4825 - val_loss: 410471.8125 - val_mae: 386.7857\n",
      "Epoch 47/200\n",
      "3872/3872 [==============================] - 6s 1ms/step - loss: 1229066.3750 - mae: 790.8510 - val_loss: 450085.6875 - val_mae: 420.2039\n",
      "Epoch 48/200\n",
      "3872/3872 [==============================] - 6s 1ms/step - loss: 1244733.1250 - mae: 798.6367 - val_loss: 475795.5625 - val_mae: 425.3200\n",
      "Epoch 49/200\n",
      "3872/3872 [==============================] - 6s 1ms/step - loss: 1243560.3750 - mae: 801.8985 - val_loss: 462086.6562 - val_mae: 451.9748\n",
      "Epoch 50/200\n",
      "3872/3872 [==============================] - 6s 1ms/step - loss: 1263663.7500 - mae: 805.7209 - val_loss: 417934.8750 - val_mae: 386.6285\n",
      "Epoch 51/200\n",
      "3872/3872 [==============================] - 6s 1ms/step - loss: 1249550.1250 - mae: 796.0342 - val_loss: 434851.4062 - val_mae: 426.7861\n",
      "Epoch 52/200\n",
      "3872/3872 [==============================] - 6s 1ms/step - loss: 1235261.6250 - mae: 794.9348 - val_loss: 417252.0000 - val_mae: 382.4954\n",
      "Epoch 53/200\n",
      "3872/3872 [==============================] - 6s 1ms/step - loss: 1264351.8750 - mae: 806.9069 - val_loss: 515062.6875 - val_mae: 511.9000\n",
      "Epoch 54/200\n",
      "3872/3872 [==============================] - 6s 1ms/step - loss: 1246548.5000 - mae: 801.9878 - val_loss: 408486.4375 - val_mae: 370.6769\n",
      "Epoch 55/200\n"
     ]
    },
    {
     "name": "stdout",
     "output_type": "stream",
     "text": [
      "3872/3872 [==============================] - 6s 1ms/step - loss: 1236306.2500 - mae: 796.4888 - val_loss: 400712.4688 - val_mae: 342.9673\n",
      "Epoch 56/200\n",
      "3872/3872 [==============================] - 6s 1ms/step - loss: 1254006.0000 - mae: 805.5676 - val_loss: 399610.5312 - val_mae: 349.7121\n",
      "Epoch 57/200\n",
      "3872/3872 [==============================] - 6s 1ms/step - loss: 1233341.6250 - mae: 792.2233 - val_loss: 448620.3438 - val_mae: 443.5226\n",
      "Epoch 58/200\n",
      "3872/3872 [==============================] - 6s 1ms/step - loss: 1238327.2500 - mae: 795.6469 - val_loss: 408414.5000 - val_mae: 351.6266\n",
      "Epoch 59/200\n",
      "3872/3872 [==============================] - 6s 1ms/step - loss: 1232801.0000 - mae: 794.4310 - val_loss: 420877.7188 - val_mae: 404.9592\n",
      "Epoch 60/200\n",
      "3872/3872 [==============================] - 6s 1ms/step - loss: 1240210.6250 - mae: 797.4693 - val_loss: 460116.0312 - val_mae: 462.5026\n",
      "Epoch 61/200\n",
      "3872/3872 [==============================] - 6s 1ms/step - loss: 1236131.7500 - mae: 795.1128 - val_loss: 429114.5938 - val_mae: 388.7899\n",
      "Epoch 62/200\n",
      "3872/3872 [==============================] - 5s 1ms/step - loss: 1251869.5000 - mae: 799.8260 - val_loss: 445580.7500 - val_mae: 441.5670\n",
      "Epoch 63/200\n",
      "3872/3872 [==============================] - 6s 1ms/step - loss: 1237545.1250 - mae: 799.8809 - val_loss: 404234.6875 - val_mae: 354.9349\n",
      "Epoch 64/200\n",
      "3872/3872 [==============================] - 6s 1ms/step - loss: 1245223.7500 - mae: 798.8298 - val_loss: 406853.0312 - val_mae: 371.5228\n",
      "Epoch 65/200\n",
      "3872/3872 [==============================] - 6s 1ms/step - loss: 1264930.1250 - mae: 808.5040 - val_loss: 504963.7500 - val_mae: 488.4412\n",
      "Epoch 66/200\n",
      "3872/3872 [==============================] - 6s 1ms/step - loss: 1241452.5000 - mae: 799.8140 - val_loss: 504217.5312 - val_mae: 505.2757\n",
      "Epoch 67/200\n",
      "3872/3872 [==============================] - 6s 1ms/step - loss: 1231368.6250 - mae: 795.5800 - val_loss: 450978.0000 - val_mae: 441.7430\n",
      "Epoch 68/200\n",
      "3872/3872 [==============================] - 6s 1ms/step - loss: 1238340.3750 - mae: 799.8386 - val_loss: 448945.5625 - val_mae: 407.3200\n",
      "Epoch 69/200\n",
      "3872/3872 [==============================] - 6s 1ms/step - loss: 1240658.7500 - mae: 798.9340 - val_loss: 419788.9062 - val_mae: 390.5382\n",
      "Epoch 70/200\n",
      "3872/3872 [==============================] - 6s 1ms/step - loss: 1248593.6250 - mae: 802.8668 - val_loss: 468498.1875 - val_mae: 466.3940\n",
      "Epoch 71/200\n",
      "3872/3872 [==============================] - 6s 1ms/step - loss: 1233030.3750 - mae: 796.2116 - val_loss: 428221.0938 - val_mae: 388.0910\n",
      "Epoch 72/200\n",
      "3872/3872 [==============================] - 6s 1ms/step - loss: 1248518.2500 - mae: 803.2726 - val_loss: 443890.6875 - val_mae: 396.2859\n",
      "Epoch 73/200\n",
      "3872/3872 [==============================] - 6s 1ms/step - loss: 1253606.6250 - mae: 805.0084 - val_loss: 413033.5938 - val_mae: 374.9042\n",
      "Epoch 74/200\n",
      "3872/3872 [==============================] - 6s 1ms/step - loss: 1229509.8750 - mae: 793.9945 - val_loss: 400312.0938 - val_mae: 364.8195\n",
      "Epoch 75/200\n",
      "3872/3872 [==============================] - 6s 1ms/step - loss: 1253461.0000 - mae: 805.4838 - val_loss: 414543.6875 - val_mae: 349.3699\n",
      "Epoch 76/200\n",
      "3872/3872 [==============================] - 6s 1ms/step - loss: 1264461.7500 - mae: 807.5312 - val_loss: 449200.0000 - val_mae: 436.2522\n",
      "Epoch 77/200\n",
      "3872/3872 [==============================] - 6s 1ms/step - loss: 1250203.2500 - mae: 803.7404 - val_loss: 472754.5312 - val_mae: 446.7247\n",
      "Epoch 78/200\n",
      "3872/3872 [==============================] - 6s 1ms/step - loss: 1248303.0000 - mae: 801.3702 - val_loss: 416835.3125 - val_mae: 389.3166\n",
      "Epoch 79/200\n",
      "3872/3872 [==============================] - 6s 1ms/step - loss: 1212758.7500 - mae: 789.9594 - val_loss: 460612.6250 - val_mae: 455.8128\n",
      "Epoch 80/200\n",
      "3872/3872 [==============================] - 6s 1ms/step - loss: 1253795.0000 - mae: 803.9653 - val_loss: 465667.9375 - val_mae: 469.4681\n",
      "Epoch 81/200\n",
      "3872/3872 [==============================] - 6s 1ms/step - loss: 1235412.8750 - mae: 796.6382 - val_loss: 435589.3750 - val_mae: 433.2437\n",
      "Epoch 82/200\n",
      "3872/3872 [==============================] - 6s 1ms/step - loss: 1253993.0000 - mae: 806.7244 - val_loss: 401199.7188 - val_mae: 363.7070\n",
      "Epoch 83/200\n",
      "3872/3872 [==============================] - 6s 1ms/step - loss: 1228392.5000 - mae: 794.1351 - val_loss: 452833.2188 - val_mae: 438.0886\n",
      "Epoch 84/200\n",
      "3872/3872 [==============================] - 6s 1ms/step - loss: 1224581.7500 - mae: 790.9256 - val_loss: 399857.2188 - val_mae: 337.0616\n",
      "Epoch 85/200\n",
      "3872/3872 [==============================] - 6s 1ms/step - loss: 1211262.6250 - mae: 790.8745 - val_loss: 451947.5938 - val_mae: 436.3307\n",
      "Epoch 86/200\n",
      "3872/3872 [==============================] - 6s 1ms/step - loss: 1234802.3750 - mae: 797.2783 - val_loss: 409142.1562 - val_mae: 379.8601\n"
     ]
    }
   ],
   "source": [
    "hist = nn.fit(xtrain,ytrain,validation_split=0.2,batch_size=32, epochs=200, callbacks=[early_stop])"
   ]
  },
  {
   "cell_type": "code",
   "execution_count": 28,
   "id": "80a186c5",
   "metadata": {},
   "outputs": [
    {
     "data": {
      "image/png": "[encoded data removed]",
      "text/plain": [
       "<Figure size 1152x576 with 1 Axes>"
      ]
     },
     "metadata": {
      "needs_background": "light"
     },
     "output_type": "display_data"
    }
   ],
   "source": [
    "import matplotlib.pyplot as plt\n",
    "plt.figure(figsize=(16,8))\n",
    "plt.plot(hist.history['loss'],label='training loss')\n",
    "plt.plot(hist.history['val_loss'],label='val loss')\n",
    "plt.xlabel('epochs')\n",
    "plt.ylabel('Mean Squared Error')\n",
    "plt.title('Learning curve')\n",
    "plt.legend()\n",
    "plt.show()"
   ]
  },
  {
   "cell_type": "markdown",
   "id": "6c6eb154",
   "metadata": {},
   "source": [
    "## Evaluate the model"
   ]
  },
  {
   "cell_type": "code",
   "execution_count": 29,
   "id": "7805ee85",
   "metadata": {},
   "outputs": [
    {
     "name": "stdout",
     "output_type": "stream",
     "text": [
      "4840/4840 [==============================] - 4s 810us/step - loss: 387704.6250 - mae: 375.7468\n"
     ]
    },
    {
     "data": {
      "text/plain": [
       "[387704.625, 375.7467956542969]"
      ]
     },
     "execution_count": 29,
     "metadata": {},
     "output_type": "execute_result"
    }
   ],
   "source": [
    "nn.evaluate(xtrain,ytrain)"
   ]
  },
  {
   "cell_type": "code",
   "execution_count": 30,
   "id": "398046f4",
   "metadata": {},
   "outputs": [
    {
     "name": "stdout",
     "output_type": "stream",
     "text": [
      "1210/1210 [==============================] - 1s 782us/step - loss: 391769.6875 - mae: 374.5659\n"
     ]
    },
    {
     "data": {
      "text/plain": [
       "[391769.6875, 374.56585693359375]"
      ]
     },
     "execution_count": 30,
     "metadata": {},
     "output_type": "execute_result"
    }
   ],
   "source": [
    "nn.evaluate(xtest,ytest)"
   ]
  },
  {
   "cell_type": "code",
   "execution_count": 31,
   "id": "9eb8852f",
   "metadata": {},
   "outputs": [
    {
     "name": "stdout",
     "output_type": "stream",
     "text": [
      "4840/4840 [==============================] - 3s 681us/step\n",
      "1210/1210 [==============================] - 1s 691us/step\n"
     ]
    }
   ],
   "source": [
    "ypred_train = nn.predict(xtrain)\n",
    "ypred_test = nn.predict(xtest)"
   ]
  },
  {
   "cell_type": "code",
   "execution_count": 32,
   "id": "8d759539",
   "metadata": {},
   "outputs": [
    {
     "name": "stdout",
     "output_type": "stream",
     "text": [
      "Training MSE  : 387704.63\n",
      "Training RMSE : 622.66\n",
      "Training MAE  : 375.75\n",
      "Training R2 Score : 0.9762\n"
     ]
    }
   ],
   "source": [
    "# Checking for all metrics using Sklearn metrics\n",
    "from sklearn.metrics import mean_squared_error, mean_absolute_error, r2_score\n",
    "train_mse = mean_squared_error(ytrain, ypred_train)\n",
    "train_rmse = train_mse**0.5\n",
    "train_mae = mean_absolute_error(ytrain,ypred_train)\n",
    "train_r2 = r2_score(ytrain, ypred_train)\n",
    "print('Training MSE  :',round(train_mse,2))\n",
    "print('Training RMSE :',round(train_rmse,2))\n",
    "print('Training MAE  :',round(train_mae,2))\n",
    "print('Training R2 Score :',round(train_r2,4))"
   ]
  },
  {
   "cell_type": "code",
   "execution_count": 33,
   "id": "ce1b8b87",
   "metadata": {},
   "outputs": [
    {
     "name": "stdout",
     "output_type": "stream",
     "text": [
      "Testing MSE  : 391769.76\n",
      "Testing RMSE : 625.92\n",
      "Testing MAE  : 374.57\n",
      "Testing R2 Score : 0.9758\n"
     ]
    }
   ],
   "source": [
    "test_mse = mean_squared_error(ytest, ypred_test)\n",
    "test_rmse = test_mse**0.5\n",
    "test_mae = mean_absolute_error(ytest,ypred_test)\n",
    "test_r2 = r2_score(ytest, ypred_test)\n",
    "print('Testing MSE  :',round(test_mse,2))\n",
    "print('Testing RMSE :',round(test_rmse,2))\n",
    "print('Testing MAE  :',round(test_mae,2))\n",
    "print('Testing R2 Score :',round(test_r2,4))"
   ]
  },
  {
   "cell_type": "code",
   "execution_count": null,
   "id": "480c7f15",
   "metadata": {},
   "outputs": [],
   "source": []
  }
 ],
 "metadata": {
  "kernelspec": {
   "display_name": "Python 3 (ipykernel)",
   "language": "python",
   "name": "python3"
  },
  "language_info": {
   "codemirror_mode": {
    "name": "ipython",
    "version": 3
   },
   "file_extension": ".py",
   "mimetype": "text/x-python",
   "name": "python",
   "nbconvert_exporter": "python",
   "pygments_lexer": "ipython3",
   "version": "3.9.7"
  }
 },
 "nbformat": 4,
 "nbformat_minor": 5
}
